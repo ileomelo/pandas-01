{
 "cells": [
  {
   "cell_type": "code",
   "execution_count": null,
   "metadata": {},
   "outputs": [],
   "source": [
    "import pandas as pd"
   ]
  },
  {
   "cell_type": "code",
   "execution_count": null,
   "metadata": {},
   "outputs": [],
   "source": [
    "# Lendo o arquivo CSV\n",
    "df = pd.read_csv(\"../data/clientes.csv\", sep=\",\")\n",
    "df"
   ]
  },
  {
   "cell_type": "code",
   "execution_count": null,
   "metadata": {},
   "outputs": [],
   "source": [
    "# Salvamdo o arquivo em formato parquet\n",
    "df.to_parquet(\"clientes.parquet\", index=False)\n",
    "\n",
    "# Tambem posso ler o arquivo parquet\n",
    "df2 = pd.read_parquet(\"clientes.parquet\")\n",
    "df2"
   ]
  },
  {
   "cell_type": "code",
   "execution_count": null,
   "metadata": {},
   "outputs": [],
   "source": [
    "# Lendo dados apartir de uma URL\n",
    "\n",
    "url = \"https://pt.wikipedia.org/wiki/Unidades_federativas_do_Brasil\"\n",
    "\n",
    "df3 = pd.read_html(url)\n",
    "df3"
   ]
  },
  {
   "cell_type": "code",
   "execution_count": null,
   "metadata": {},
   "outputs": [],
   "source": [
    "# A lista df3 é uma lista de dataframes, onde cada dataframe corresponde a uma tabela encontrada na página\n",
    "# Vamos ver quantas tabelas foram encontradas\n",
    "len(df3)  # 13 Tabelas"
   ]
  },
  {
   "cell_type": "code",
   "execution_count": null,
   "metadata": {},
   "outputs": [],
   "source": [
    "# No caso queremos a tabela 2, que é a tabela com as unidades federativas do Brasil\n",
    "df_uf = df3[1]\n",
    "df_uf = df_uf.drop(\"Bandeira\", axis=1)  # Removendo a coluna Bandeira\n",
    "df_uf = df_uf.to_csv(\"unidades_federativas.csv\", index=False)"
   ]
  },
  {
   "cell_type": "code",
   "execution_count": null,
   "metadata": {},
   "outputs": [],
   "source": [
    "# Lendo o arquivo CSV salvo\n",
    "df4 = pd.read_csv(\"unidades_federativas.csv\", sep=\",\")\n",
    "df4"
   ]
  }
 ],
 "metadata": {
  "kernelspec": {
   "display_name": ".venv",
   "language": "python",
   "name": "python3"
  },
  "language_info": {
   "codemirror_mode": {
    "name": "ipython",
    "version": 3
   },
   "file_extension": ".py",
   "mimetype": "text/x-python",
   "name": "python",
   "nbconvert_exporter": "python",
   "pygments_lexer": "ipython3",
   "version": "3.11.11"
  }
 },
 "nbformat": 4,
 "nbformat_minor": 2
}
