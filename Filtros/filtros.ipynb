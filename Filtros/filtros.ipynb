{
 "cells": [
  {
   "cell_type": "code",
   "execution_count": 16,
   "id": "14af9b7b",
   "metadata": {},
   "outputs": [],
   "source": [
    "import pandas as pd"
   ]
  },
  {
   "cell_type": "code",
   "execution_count": 17,
   "id": "51140a5d",
   "metadata": {},
   "outputs": [
    {
     "data": {
      "application/vnd.microsoft.datawrangler.viewer.v0+json": {
       "columns": [
        {
         "name": "index",
         "rawType": "int64",
         "type": "integer"
        },
        {
         "name": "idTransacao",
         "rawType": "object",
         "type": "string"
        },
        {
         "name": "idCliente",
         "rawType": "object",
         "type": "string"
        },
        {
         "name": "dtCriacao",
         "rawType": "object",
         "type": "string"
        },
        {
         "name": "qtdePontos",
         "rawType": "int64",
         "type": "integer"
        },
        {
         "name": "descSistemaOrigem",
         "rawType": "object",
         "type": "string"
        }
       ],
       "conversionMethod": "pd.DataFrame",
       "ref": "511e2b0c-74c1-4e45-9477-e651a5694f64",
       "rows": [
        [
         "0",
         "000060e8-aa76-4286-a8d7-f30e6fa47edd",
         "252a0923-3f79-45bb-b664-3040235c6c58",
         "2024-07-23 12:49:49.874",
         "1",
         "twitch"
        ],
        [
         "1",
         "0000dfbb-e14e-4ea7-a57f-60236869fffe",
         "5f8fcbe0-6014-43f8-8b83-38cf2f4887b3",
         "2024-02-20 13:21:45.613",
         "1",
         "twitch"
        ],
        [
         "2",
         "0000e94f-fb76-42b7-82e3-5059b6e40703",
         "3884c92f-a635-4b67-9e5a-97730829cdca",
         "2024-02-05 13:27:18.987",
         "1",
         "twitch"
        ],
        [
         "3",
         "00019b46-6b25-47c3-aa8f-f550d7dbcb00",
         "e2624c1c-c8af-4622-94e0-f3470037292f",
         "2024-06-20 19:22:45.600",
         "1",
         "twitch"
        ],
        [
         "4",
         "0001d503-58d0-4c3e-b0f4-eda1d5f97d06",
         "9aba2685-7c0a-4d1f-8e22-0c47ca0af580",
         "2024-03-18 13:04:21.814",
         "1",
         "twitch"
        ]
       ],
       "shape": {
        "columns": 5,
        "rows": 5
       }
      },
      "text/html": [
       "<div>\n",
       "<style scoped>\n",
       "    .dataframe tbody tr th:only-of-type {\n",
       "        vertical-align: middle;\n",
       "    }\n",
       "\n",
       "    .dataframe tbody tr th {\n",
       "        vertical-align: top;\n",
       "    }\n",
       "\n",
       "    .dataframe thead th {\n",
       "        text-align: right;\n",
       "    }\n",
       "</style>\n",
       "<table border=\"1\" class=\"dataframe\">\n",
       "  <thead>\n",
       "    <tr style=\"text-align: right;\">\n",
       "      <th></th>\n",
       "      <th>idTransacao</th>\n",
       "      <th>idCliente</th>\n",
       "      <th>dtCriacao</th>\n",
       "      <th>qtdePontos</th>\n",
       "      <th>descSistemaOrigem</th>\n",
       "    </tr>\n",
       "  </thead>\n",
       "  <tbody>\n",
       "    <tr>\n",
       "      <th>0</th>\n",
       "      <td>000060e8-aa76-4286-a8d7-f30e6fa47edd</td>\n",
       "      <td>252a0923-3f79-45bb-b664-3040235c6c58</td>\n",
       "      <td>2024-07-23 12:49:49.874</td>\n",
       "      <td>1</td>\n",
       "      <td>twitch</td>\n",
       "    </tr>\n",
       "    <tr>\n",
       "      <th>1</th>\n",
       "      <td>0000dfbb-e14e-4ea7-a57f-60236869fffe</td>\n",
       "      <td>5f8fcbe0-6014-43f8-8b83-38cf2f4887b3</td>\n",
       "      <td>2024-02-20 13:21:45.613</td>\n",
       "      <td>1</td>\n",
       "      <td>twitch</td>\n",
       "    </tr>\n",
       "    <tr>\n",
       "      <th>2</th>\n",
       "      <td>0000e94f-fb76-42b7-82e3-5059b6e40703</td>\n",
       "      <td>3884c92f-a635-4b67-9e5a-97730829cdca</td>\n",
       "      <td>2024-02-05 13:27:18.987</td>\n",
       "      <td>1</td>\n",
       "      <td>twitch</td>\n",
       "    </tr>\n",
       "    <tr>\n",
       "      <th>3</th>\n",
       "      <td>00019b46-6b25-47c3-aa8f-f550d7dbcb00</td>\n",
       "      <td>e2624c1c-c8af-4622-94e0-f3470037292f</td>\n",
       "      <td>2024-06-20 19:22:45.600</td>\n",
       "      <td>1</td>\n",
       "      <td>twitch</td>\n",
       "    </tr>\n",
       "    <tr>\n",
       "      <th>4</th>\n",
       "      <td>0001d503-58d0-4c3e-b0f4-eda1d5f97d06</td>\n",
       "      <td>9aba2685-7c0a-4d1f-8e22-0c47ca0af580</td>\n",
       "      <td>2024-03-18 13:04:21.814</td>\n",
       "      <td>1</td>\n",
       "      <td>twitch</td>\n",
       "    </tr>\n",
       "  </tbody>\n",
       "</table>\n",
       "</div>"
      ],
      "text/plain": [
       "                            idTransacao                             idCliente  \\\n",
       "0  000060e8-aa76-4286-a8d7-f30e6fa47edd  252a0923-3f79-45bb-b664-3040235c6c58   \n",
       "1  0000dfbb-e14e-4ea7-a57f-60236869fffe  5f8fcbe0-6014-43f8-8b83-38cf2f4887b3   \n",
       "2  0000e94f-fb76-42b7-82e3-5059b6e40703  3884c92f-a635-4b67-9e5a-97730829cdca   \n",
       "3  00019b46-6b25-47c3-aa8f-f550d7dbcb00  e2624c1c-c8af-4622-94e0-f3470037292f   \n",
       "4  0001d503-58d0-4c3e-b0f4-eda1d5f97d06  9aba2685-7c0a-4d1f-8e22-0c47ca0af580   \n",
       "\n",
       "                 dtCriacao  qtdePontos descSistemaOrigem  \n",
       "0  2024-07-23 12:49:49.874           1            twitch  \n",
       "1  2024-02-20 13:21:45.613           1            twitch  \n",
       "2  2024-02-05 13:27:18.987           1            twitch  \n",
       "3  2024-06-20 19:22:45.600           1            twitch  \n",
       "4  2024-03-18 13:04:21.814           1            twitch  "
      ]
     },
     "execution_count": 17,
     "metadata": {},
     "output_type": "execute_result"
    }
   ],
   "source": [
    "df = pd.read_csv(\"../data/transacoes.csv\", sep=\",\")\n",
    "df.head()"
   ]
  },
  {
   "cell_type": "code",
   "execution_count": 18,
   "id": "ab92d415",
   "metadata": {},
   "outputs": [
    {
     "data": {
      "application/vnd.microsoft.datawrangler.viewer.v0+json": {
       "columns": [
        {
         "name": "index",
         "rawType": "int64",
         "type": "integer"
        },
        {
         "name": "nome",
         "rawType": "object",
         "type": "string"
        },
        {
         "name": "idade",
         "rawType": "int64",
         "type": "integer"
        },
        {
         "name": "UF",
         "rawType": "object",
         "type": "string"
        }
       ],
       "conversionMethod": "pd.DataFrame",
       "ref": "7a596d42-a64d-4eee-a493-6efafd086599",
       "rows": [
        [
         "0",
         "Ana",
         "25",
         "SP"
        ],
        [
         "1",
         "Bruno",
         "30",
         "RJ"
        ],
        [
         "2",
         "Carlos",
         "22",
         "MG"
        ],
        [
         "3",
         "Daniela",
         "28",
         "BA"
        ],
        [
         "4",
         "Eduardo",
         "35",
         "RS"
        ]
       ],
       "shape": {
        "columns": 3,
        "rows": 5
       }
      },
      "text/html": [
       "<div>\n",
       "<style scoped>\n",
       "    .dataframe tbody tr th:only-of-type {\n",
       "        vertical-align: middle;\n",
       "    }\n",
       "\n",
       "    .dataframe tbody tr th {\n",
       "        vertical-align: top;\n",
       "    }\n",
       "\n",
       "    .dataframe thead th {\n",
       "        text-align: right;\n",
       "    }\n",
       "</style>\n",
       "<table border=\"1\" class=\"dataframe\">\n",
       "  <thead>\n",
       "    <tr style=\"text-align: right;\">\n",
       "      <th></th>\n",
       "      <th>nome</th>\n",
       "      <th>idade</th>\n",
       "      <th>UF</th>\n",
       "    </tr>\n",
       "  </thead>\n",
       "  <tbody>\n",
       "    <tr>\n",
       "      <th>0</th>\n",
       "      <td>Ana</td>\n",
       "      <td>25</td>\n",
       "      <td>SP</td>\n",
       "    </tr>\n",
       "    <tr>\n",
       "      <th>1</th>\n",
       "      <td>Bruno</td>\n",
       "      <td>30</td>\n",
       "      <td>RJ</td>\n",
       "    </tr>\n",
       "    <tr>\n",
       "      <th>2</th>\n",
       "      <td>Carlos</td>\n",
       "      <td>22</td>\n",
       "      <td>MG</td>\n",
       "    </tr>\n",
       "    <tr>\n",
       "      <th>3</th>\n",
       "      <td>Daniela</td>\n",
       "      <td>28</td>\n",
       "      <td>BA</td>\n",
       "    </tr>\n",
       "    <tr>\n",
       "      <th>4</th>\n",
       "      <td>Eduardo</td>\n",
       "      <td>35</td>\n",
       "      <td>RS</td>\n",
       "    </tr>\n",
       "  </tbody>\n",
       "</table>\n",
       "</div>"
      ],
      "text/plain": [
       "      nome  idade  UF\n",
       "0      Ana     25  SP\n",
       "1    Bruno     30  RJ\n",
       "2   Carlos     22  MG\n",
       "3  Daniela     28  BA\n",
       "4  Eduardo     35  RS"
      ]
     },
     "execution_count": 18,
     "metadata": {},
     "output_type": "execute_result"
    }
   ],
   "source": [
    "dados = {\n",
    "    \"nome\": [\"Ana\", \"Bruno\", \"Carlos\", \"Daniela\", \"Eduardo\"],\n",
    "    \"idade\": [25, 30, 22, 28, 35],\n",
    "    \"UF\": [\"SP\", \"RJ\", \"MG\", \"BA\", \"RS\"],\n",
    "}\n",
    "\n",
    "# Criando o DataFrame\n",
    "df_dummy = pd.DataFrame(dados)\n",
    "df_dummy"
   ]
  },
  {
   "cell_type": "code",
   "execution_count": 19,
   "id": "fb2fda96",
   "metadata": {},
   "outputs": [
    {
     "data": {
      "text/plain": [
       "0    False\n",
       "1    False\n",
       "2    False\n",
       "3    False\n",
       "4     True\n",
       "Name: idade, dtype: bool"
      ]
     },
     "execution_count": 19,
     "metadata": {},
     "output_type": "execute_result"
    }
   ],
   "source": [
    "filtro = df_dummy[\"idade\"] > 30  # Isso me volta uma série booleana\n",
    "filtro  # True ou False para cada linha do DataFrame"
   ]
  },
  {
   "cell_type": "code",
   "execution_count": 20,
   "id": "6e6a30fa",
   "metadata": {},
   "outputs": [
    {
     "data": {
      "application/vnd.microsoft.datawrangler.viewer.v0+json": {
       "columns": [
        {
         "name": "index",
         "rawType": "int64",
         "type": "integer"
        },
        {
         "name": "nome",
         "rawType": "object",
         "type": "string"
        },
        {
         "name": "idade",
         "rawType": "int64",
         "type": "integer"
        },
        {
         "name": "UF",
         "rawType": "object",
         "type": "string"
        }
       ],
       "conversionMethod": "pd.DataFrame",
       "ref": "eb7f72cb-1148-4c7e-8875-ee996807694a",
       "rows": [
        [
         "4",
         "Eduardo",
         "35",
         "RS"
        ]
       ],
       "shape": {
        "columns": 3,
        "rows": 1
       }
      },
      "text/html": [
       "<div>\n",
       "<style scoped>\n",
       "    .dataframe tbody tr th:only-of-type {\n",
       "        vertical-align: middle;\n",
       "    }\n",
       "\n",
       "    .dataframe tbody tr th {\n",
       "        vertical-align: top;\n",
       "    }\n",
       "\n",
       "    .dataframe thead th {\n",
       "        text-align: right;\n",
       "    }\n",
       "</style>\n",
       "<table border=\"1\" class=\"dataframe\">\n",
       "  <thead>\n",
       "    <tr style=\"text-align: right;\">\n",
       "      <th></th>\n",
       "      <th>nome</th>\n",
       "      <th>idade</th>\n",
       "      <th>UF</th>\n",
       "    </tr>\n",
       "  </thead>\n",
       "  <tbody>\n",
       "    <tr>\n",
       "      <th>4</th>\n",
       "      <td>Eduardo</td>\n",
       "      <td>35</td>\n",
       "      <td>RS</td>\n",
       "    </tr>\n",
       "  </tbody>\n",
       "</table>\n",
       "</div>"
      ],
      "text/plain": [
       "      nome  idade  UF\n",
       "4  Eduardo     35  RS"
      ]
     },
     "execution_count": 20,
     "metadata": {},
     "output_type": "execute_result"
    }
   ],
   "source": [
    "# Para filtrar o DataFrame, utilizamos a série booleana criada acima e aplicamos no DataFrame\n",
    "df_dummy[filtro]  # Retorna apenas as linhas onde o filtro é True"
   ]
  },
  {
   "cell_type": "code",
   "execution_count": 21,
   "id": "a44e8b98",
   "metadata": {},
   "outputs": [
    {
     "data": {
      "application/vnd.microsoft.datawrangler.viewer.v0+json": {
       "columns": [
        {
         "name": "index",
         "rawType": "int64",
         "type": "integer"
        },
        {
         "name": "nome",
         "rawType": "object",
         "type": "string"
        },
        {
         "name": "idade",
         "rawType": "int64",
         "type": "integer"
        },
        {
         "name": "UF",
         "rawType": "object",
         "type": "string"
        }
       ],
       "conversionMethod": "pd.DataFrame",
       "ref": "64161257-f2ad-4e8f-af7c-de79cba39fe6",
       "rows": [
        [
         "4",
         "Eduardo",
         "35",
         "RS"
        ]
       ],
       "shape": {
        "columns": 3,
        "rows": 1
       }
      },
      "text/html": [
       "<div>\n",
       "<style scoped>\n",
       "    .dataframe tbody tr th:only-of-type {\n",
       "        vertical-align: middle;\n",
       "    }\n",
       "\n",
       "    .dataframe tbody tr th {\n",
       "        vertical-align: top;\n",
       "    }\n",
       "\n",
       "    .dataframe thead th {\n",
       "        text-align: right;\n",
       "    }\n",
       "</style>\n",
       "<table border=\"1\" class=\"dataframe\">\n",
       "  <thead>\n",
       "    <tr style=\"text-align: right;\">\n",
       "      <th></th>\n",
       "      <th>nome</th>\n",
       "      <th>idade</th>\n",
       "      <th>UF</th>\n",
       "    </tr>\n",
       "  </thead>\n",
       "  <tbody>\n",
       "    <tr>\n",
       "      <th>4</th>\n",
       "      <td>Eduardo</td>\n",
       "      <td>35</td>\n",
       "      <td>RS</td>\n",
       "    </tr>\n",
       "  </tbody>\n",
       "</table>\n",
       "</div>"
      ],
      "text/plain": [
       "      nome  idade  UF\n",
       "4  Eduardo     35  RS"
      ]
     },
     "execution_count": 21,
     "metadata": {},
     "output_type": "execute_result"
    }
   ],
   "source": [
    "# Existe uma outra forma de fazer o mesmo filtro\n",
    "df2 = df_dummy[df_dummy[\"idade\"] > 30]\n",
    "df2"
   ]
  },
  {
   "cell_type": "code",
   "execution_count": 25,
   "id": "d1435dfb",
   "metadata": {},
   "outputs": [
    {
     "data": {
      "application/vnd.microsoft.datawrangler.viewer.v0+json": {
       "columns": [
        {
         "name": "index",
         "rawType": "int64",
         "type": "integer"
        },
        {
         "name": "idTransacao",
         "rawType": "object",
         "type": "string"
        },
        {
         "name": "idCliente",
         "rawType": "object",
         "type": "string"
        },
        {
         "name": "dtCriacao",
         "rawType": "object",
         "type": "string"
        },
        {
         "name": "qtdePontos",
         "rawType": "int64",
         "type": "integer"
        },
        {
         "name": "descSistemaOrigem",
         "rawType": "object",
         "type": "string"
        }
       ],
       "conversionMethod": "pd.DataFrame",
       "ref": "aa6ae077-bb23-4224-ad08-4a8504e6f2e6",
       "rows": [
        [
         "1876",
         "029ed658-5586-431c-9c90-f2369b6b0362",
         "6313ceac-7806-4d34-aedd-476eed7c853a",
         "2025-01-17 11:31:28.601",
         "100",
         "twitch"
        ],
        [
         "16519",
         "16e8af45-446c-40e9-adbe-16239d4f0f83",
         "803debdb-8136-4cb5-af29-dcd8db36bf2c",
         "2025-01-17 12:50:08.899",
         "100",
         "twitch"
        ],
        [
         "181759",
         "fe7df77e-6c6d-4942-9b77-9e27a19d4c18",
         "4fade907-6e0f-4581-a674-aad6622b1b10",
         "2024-08-02 13:04:02.355",
         "100",
         "twitch"
        ],
        [
         "130046",
         "b6094e95-0c4e-4664-b924-1994283350c1",
         "056caf66-d67b-449e-8cba-0bab8aca5949",
         "2024-08-23 12:17:44.284",
         "100",
         "twitch"
        ],
        [
         "7443",
         "0a5a8341-5377-4c82-9fd3-e6c185265c51",
         "564ab6da-2ad3-4c5f-9e59-60de8d89fbcc",
         "2024-11-04 11:57:56.078",
         "100",
         "twitch"
        ],
        [
         "44203",
         "3dc96a84-24eb-4689-8697-24f92a967dc2",
         "74c06e4d-0d4f-48f1-96af-a03c7b18ce47",
         "2024-06-21 12:31:33.769",
         "500",
         "twitch"
        ],
        [
         "32911",
         "2dd5de94-d679-455b-b207-9fff082ffe3f",
         "2d7f6b3f-9366-44c1-9663-beb5f7e1254e",
         "2024-05-06 11:48:54.791",
         "500",
         "twitch"
        ],
        [
         "160546",
         "e0b35b73-67a5-44cb-9ce1-3a47d8c25542",
         "65662aff-44d6-4f06-b9d9-07445c6e5943",
         "2024-06-07 11:52:03.816",
         "100",
         "twitch"
        ],
        [
         "12733",
         "11a90b9b-53d8-4a68-b73a-d8b783e960bd",
         "890762ae-991c-40df-ab45-76486b14289d",
         "2025-02-14 11:14:44.864",
         "100",
         "twitch"
        ],
        [
         "86099",
         "788020f7-7867-4ab1-8978-9a132f3aa33a",
         "b0847d5b-c1dd-41cc-8302-b451c8674c0e",
         "2024-03-15 12:53:39.949",
         "100",
         "twitch"
        ]
       ],
       "shape": {
        "columns": 5,
        "rows": 10
       }
      },
      "text/html": [
       "<div>\n",
       "<style scoped>\n",
       "    .dataframe tbody tr th:only-of-type {\n",
       "        vertical-align: middle;\n",
       "    }\n",
       "\n",
       "    .dataframe tbody tr th {\n",
       "        vertical-align: top;\n",
       "    }\n",
       "\n",
       "    .dataframe thead th {\n",
       "        text-align: right;\n",
       "    }\n",
       "</style>\n",
       "<table border=\"1\" class=\"dataframe\">\n",
       "  <thead>\n",
       "    <tr style=\"text-align: right;\">\n",
       "      <th></th>\n",
       "      <th>idTransacao</th>\n",
       "      <th>idCliente</th>\n",
       "      <th>dtCriacao</th>\n",
       "      <th>qtdePontos</th>\n",
       "      <th>descSistemaOrigem</th>\n",
       "    </tr>\n",
       "  </thead>\n",
       "  <tbody>\n",
       "    <tr>\n",
       "      <th>1876</th>\n",
       "      <td>029ed658-5586-431c-9c90-f2369b6b0362</td>\n",
       "      <td>6313ceac-7806-4d34-aedd-476eed7c853a</td>\n",
       "      <td>2025-01-17 11:31:28.601</td>\n",
       "      <td>100</td>\n",
       "      <td>twitch</td>\n",
       "    </tr>\n",
       "    <tr>\n",
       "      <th>16519</th>\n",
       "      <td>16e8af45-446c-40e9-adbe-16239d4f0f83</td>\n",
       "      <td>803debdb-8136-4cb5-af29-dcd8db36bf2c</td>\n",
       "      <td>2025-01-17 12:50:08.899</td>\n",
       "      <td>100</td>\n",
       "      <td>twitch</td>\n",
       "    </tr>\n",
       "    <tr>\n",
       "      <th>181759</th>\n",
       "      <td>fe7df77e-6c6d-4942-9b77-9e27a19d4c18</td>\n",
       "      <td>4fade907-6e0f-4581-a674-aad6622b1b10</td>\n",
       "      <td>2024-08-02 13:04:02.355</td>\n",
       "      <td>100</td>\n",
       "      <td>twitch</td>\n",
       "    </tr>\n",
       "    <tr>\n",
       "      <th>130046</th>\n",
       "      <td>b6094e95-0c4e-4664-b924-1994283350c1</td>\n",
       "      <td>056caf66-d67b-449e-8cba-0bab8aca5949</td>\n",
       "      <td>2024-08-23 12:17:44.284</td>\n",
       "      <td>100</td>\n",
       "      <td>twitch</td>\n",
       "    </tr>\n",
       "    <tr>\n",
       "      <th>7443</th>\n",
       "      <td>0a5a8341-5377-4c82-9fd3-e6c185265c51</td>\n",
       "      <td>564ab6da-2ad3-4c5f-9e59-60de8d89fbcc</td>\n",
       "      <td>2024-11-04 11:57:56.078</td>\n",
       "      <td>100</td>\n",
       "      <td>twitch</td>\n",
       "    </tr>\n",
       "    <tr>\n",
       "      <th>44203</th>\n",
       "      <td>3dc96a84-24eb-4689-8697-24f92a967dc2</td>\n",
       "      <td>74c06e4d-0d4f-48f1-96af-a03c7b18ce47</td>\n",
       "      <td>2024-06-21 12:31:33.769</td>\n",
       "      <td>500</td>\n",
       "      <td>twitch</td>\n",
       "    </tr>\n",
       "    <tr>\n",
       "      <th>32911</th>\n",
       "      <td>2dd5de94-d679-455b-b207-9fff082ffe3f</td>\n",
       "      <td>2d7f6b3f-9366-44c1-9663-beb5f7e1254e</td>\n",
       "      <td>2024-05-06 11:48:54.791</td>\n",
       "      <td>500</td>\n",
       "      <td>twitch</td>\n",
       "    </tr>\n",
       "    <tr>\n",
       "      <th>160546</th>\n",
       "      <td>e0b35b73-67a5-44cb-9ce1-3a47d8c25542</td>\n",
       "      <td>65662aff-44d6-4f06-b9d9-07445c6e5943</td>\n",
       "      <td>2024-06-07 11:52:03.816</td>\n",
       "      <td>100</td>\n",
       "      <td>twitch</td>\n",
       "    </tr>\n",
       "    <tr>\n",
       "      <th>12733</th>\n",
       "      <td>11a90b9b-53d8-4a68-b73a-d8b783e960bd</td>\n",
       "      <td>890762ae-991c-40df-ab45-76486b14289d</td>\n",
       "      <td>2025-02-14 11:14:44.864</td>\n",
       "      <td>100</td>\n",
       "      <td>twitch</td>\n",
       "    </tr>\n",
       "    <tr>\n",
       "      <th>86099</th>\n",
       "      <td>788020f7-7867-4ab1-8978-9a132f3aa33a</td>\n",
       "      <td>b0847d5b-c1dd-41cc-8302-b451c8674c0e</td>\n",
       "      <td>2024-03-15 12:53:39.949</td>\n",
       "      <td>100</td>\n",
       "      <td>twitch</td>\n",
       "    </tr>\n",
       "  </tbody>\n",
       "</table>\n",
       "</div>"
      ],
      "text/plain": [
       "                                 idTransacao  \\\n",
       "1876    029ed658-5586-431c-9c90-f2369b6b0362   \n",
       "16519   16e8af45-446c-40e9-adbe-16239d4f0f83   \n",
       "181759  fe7df77e-6c6d-4942-9b77-9e27a19d4c18   \n",
       "130046  b6094e95-0c4e-4664-b924-1994283350c1   \n",
       "7443    0a5a8341-5377-4c82-9fd3-e6c185265c51   \n",
       "44203   3dc96a84-24eb-4689-8697-24f92a967dc2   \n",
       "32911   2dd5de94-d679-455b-b207-9fff082ffe3f   \n",
       "160546  e0b35b73-67a5-44cb-9ce1-3a47d8c25542   \n",
       "12733   11a90b9b-53d8-4a68-b73a-d8b783e960bd   \n",
       "86099   788020f7-7867-4ab1-8978-9a132f3aa33a   \n",
       "\n",
       "                                   idCliente                dtCriacao  \\\n",
       "1876    6313ceac-7806-4d34-aedd-476eed7c853a  2025-01-17 11:31:28.601   \n",
       "16519   803debdb-8136-4cb5-af29-dcd8db36bf2c  2025-01-17 12:50:08.899   \n",
       "181759  4fade907-6e0f-4581-a674-aad6622b1b10  2024-08-02 13:04:02.355   \n",
       "130046  056caf66-d67b-449e-8cba-0bab8aca5949  2024-08-23 12:17:44.284   \n",
       "7443    564ab6da-2ad3-4c5f-9e59-60de8d89fbcc  2024-11-04 11:57:56.078   \n",
       "44203   74c06e4d-0d4f-48f1-96af-a03c7b18ce47  2024-06-21 12:31:33.769   \n",
       "32911   2d7f6b3f-9366-44c1-9663-beb5f7e1254e  2024-05-06 11:48:54.791   \n",
       "160546  65662aff-44d6-4f06-b9d9-07445c6e5943  2024-06-07 11:52:03.816   \n",
       "12733   890762ae-991c-40df-ab45-76486b14289d  2025-02-14 11:14:44.864   \n",
       "86099   b0847d5b-c1dd-41cc-8302-b451c8674c0e  2024-03-15 12:53:39.949   \n",
       "\n",
       "        qtdePontos descSistemaOrigem  \n",
       "1876           100            twitch  \n",
       "16519          100            twitch  \n",
       "181759         100            twitch  \n",
       "130046         100            twitch  \n",
       "7443           100            twitch  \n",
       "44203          500            twitch  \n",
       "32911          500            twitch  \n",
       "160546         100            twitch  \n",
       "12733          100            twitch  \n",
       "86099          100            twitch  "
      ]
     },
     "execution_count": 25,
     "metadata": {},
     "output_type": "execute_result"
    }
   ],
   "source": [
    "# Trabalhando com o DataFrame original\n",
    "# Retornando apenas as linhas onde o qtdePontos é maior ou igual 50\n",
    "df[df[\"qtdePontos\"] >= 50].sample(10)"
   ]
  },
  {
   "cell_type": "code",
   "execution_count": 27,
   "id": "8d31ab1d",
   "metadata": {},
   "outputs": [
    {
     "data": {
      "application/vnd.microsoft.datawrangler.viewer.v0+json": {
       "columns": [
        {
         "name": "index",
         "rawType": "int64",
         "type": "integer"
        },
        {
         "name": "idTransacao",
         "rawType": "object",
         "type": "string"
        },
        {
         "name": "idCliente",
         "rawType": "object",
         "type": "string"
        },
        {
         "name": "dtCriacao",
         "rawType": "object",
         "type": "string"
        },
        {
         "name": "qtdePontos",
         "rawType": "int64",
         "type": "integer"
        },
        {
         "name": "descSistemaOrigem",
         "rawType": "object",
         "type": "string"
        }
       ],
       "conversionMethod": "pd.DataFrame",
       "ref": "b8de168b-06d1-4175-84c3-c24e3144c6e0",
       "rows": [
        [
         "7",
         "00028d36-4575-4d02-b2a0-bdae1bc83231",
         "9d023e72-c799-40c0-907a-96e023a97959",
         "2024-11-11 12:36:33.625",
         "50",
         "twitch"
        ],
        [
         "17",
         "00068e23-5b1e-432a-83df-8a5d11e495a6",
         "3f55b86f-dc21-4ac8-8e89-7c1535359eaf",
         "2025-01-09 12:29:28.501",
         "50",
         "twitch"
        ],
        [
         "21",
         "00079f55-6df7-45c9-ac84-e4adb788563a",
         "aaad5474-eb6b-4da6-9755-a1d2541c42bd",
         "2024-08-12 14:27:40.420",
         "50",
         "twitch"
        ],
        [
         "31",
         "000a5367-79b0-4245-982e-151b75223556",
         "ab981417-daec-4b56-9cfa-6881e0ea0d26",
         "2024-03-01 22:36:59.941",
         "50",
         "twitch"
        ],
        [
         "32",
         "000aa5b6-ca63-46c5-b9e5-6074d840dae0",
         "1cd31d33-7b05-4e9b-9776-cec770be61fa",
         "2024-05-28 11:56:02.163",
         "50",
         "twitch"
        ],
        [
         "44",
         "000f0dfa-8259-46ee-bfeb-4bf22791ea98",
         "99431a0f-1f38-47ab-9136-445c7afae00d",
         "2024-04-12 12:17:22.987",
         "50",
         "twitch"
        ],
        [
         "51",
         "001025fc-27ce-4dcb-ac80-ba502005f243",
         "8ad464d3-551c-4af1-beec-c5e19061e127",
         "2024-09-09 12:02:05.370",
         "50",
         "twitch"
        ],
        [
         "53",
         "0011577c-393b-4391-869e-11926ae890f1",
         "21c51dc0-9eb8-46da-8d4e-8ebfe3e84a05",
         "2024-03-22 13:29:31.902",
         "50",
         "twitch"
        ],
        [
         "56",
         "00124d34-430f-4048-8f24-eb2181e237e7",
         "14d59794-f89e-4623-b4ba-a6c4d76b3040",
         "2024-06-19 12:54:43.473",
         "50",
         "twitch"
        ],
        [
         "67",
         "00161c15-de65-4a27-a537-e82f631b6293",
         "4fade907-6e0f-4581-a674-aad6622b1b10",
         "2025-02-07 12:08:49.922",
         "50",
         "twitch"
        ],
        [
         "69",
         "0016dc25-0e00-48ee-86e8-6d14764e816a",
         "fcda54f6-b9e9-41cf-b255-0594d9947d1b",
         "2024-12-06 11:49:30.490",
         "50",
         "twitch"
        ],
        [
         "74",
         "0017a05b-6228-4cd4-9330-72bc29c5c223",
         "f00cab8d-1c96-4e8e-9c52-f7ca96b4b321",
         "2024-03-05 12:45:35.777",
         "50",
         "twitch"
        ],
        [
         "75",
         "0017c5cf-7d73-46e4-a99c-2b45423313ea",
         "6f69f00a-28cd-4dab-a3ea-9380ef407de6",
         "2024-09-02 12:58:10.440",
         "50",
         "twitch"
        ],
        [
         "76",
         "0017d51f-84b9-43f9-9fc9-e7b760d96cd6",
         "4aa3b776-69ee-4ed9-99e2-bf32f1b4e29c",
         "2025-02-17 11:03:29.544",
         "50",
         "twitch"
        ],
        [
         "93",
         "001d31ed-8018-416c-a7d1-2844dde2e132",
         "fb3e3d1e-3e12-48ea-ba61-ce8aaec0b231",
         "2024-02-22 12:23:31.860",
         "50",
         "twitch"
        ],
        [
         "101",
         "0020ca7e-dbd9-41b6-98de-fe25c9a8159b",
         "e7c79c1a-7693-4e63-a844-c755e0bc3bd3",
         "2025-01-27 11:10:57.328",
         "50",
         "twitch"
        ],
        [
         "107",
         "00211c61-1983-4087-87d7-57bc800e6aa0",
         "0bedbd0f-25d4-4594-ad7d-46766f4522be",
         "2024-04-05 13:35:00.188",
         "50",
         "twitch"
        ],
        [
         "108",
         "00212994-fa3d-4a65-aa3f-23b573ef8abd",
         "9477a7ef-b635-41ee-a437-084a90f1064e",
         "2024-03-27 11:56:55.734",
         "50",
         "twitch"
        ],
        [
         "109",
         "00214d66-bf1d-452e-93c5-7e197933e7c0",
         "aa3eaf74-6d9c-4859-b733-5a18a3b2f71b",
         "2024-06-12 13:35:26.578",
         "50",
         "twitch"
        ],
        [
         "115",
         "002200a1-0b2f-4297-814d-d9fbefa204e4",
         "c9db4e56-2010-4100-83d7-deec037b9ef6",
         "2024-04-23 12:06:17.499",
         "50",
         "twitch"
        ],
        [
         "119",
         "0023af87-f840-4dfa-8c48-e1b9cd7621e5",
         "98953b1a-ae7e-4e50-b264-bdda6c3a4a6d",
         "2024-03-19 12:05:45.326",
         "50",
         "twitch"
        ],
        [
         "130",
         "0029068e-ad20-4295-822d-876b0f39957d",
         "3bd342b6-e5ff-456b-b8e7-8aabbe9f0a32",
         "2024-03-07 12:07:25.463",
         "50",
         "twitch"
        ],
        [
         "133",
         "002a4a23-e22f-419c-a81e-9978fd401556",
         "85545400-ea0a-4f32-8b50-4e0833050b6c",
         "2024-08-30 12:05:11.753",
         "50",
         "twitch"
        ],
        [
         "153",
         "00306432-3819-46a7-8fe1-4bccc61121b7",
         "00a6d4c8-38e5-4e92-981e-4e4ac5084546",
         "2024-08-27 12:01:24.968",
         "100",
         "twitch"
        ],
        [
         "180",
         "003bd57d-f18e-4ac5-b71c-57e4a1b1e05a",
         "a8dcc2fe-a5fb-4386-9824-034abdfb7fd7",
         "2024-04-23 18:12:11.808",
         "50",
         "twitch"
        ],
        [
         "188",
         "003f4bd5-50bf-4071-87e7-823ad29d3629",
         "5b7a7182-854c-42f3-b459-752bd3e4f0bf",
         "2024-06-25 12:06:06.862",
         "50",
         "twitch"
        ],
        [
         "191",
         "0040836c-48e2-4752-aaab-227a5065f55a",
         "4319b55f-c6bd-4a0c-b131-f93e287fd499",
         "2024-05-16 12:42:08.248",
         "50",
         "twitch"
        ],
        [
         "193",
         "0040a76f-6f19-4a2b-a60e-ab49e23e99c8",
         "87040a44-0e04-4cc1-ad91-072d167b11b1",
         "2024-07-02 13:10:08.663",
         "50",
         "twitch"
        ],
        [
         "208",
         "0046f0ed-2a56-4b64-978e-092efdec3211",
         "14d59794-f89e-4623-b4ba-a6c4d76b3040",
         "2024-06-17 12:02:55.253",
         "50",
         "twitch"
        ],
        [
         "210",
         "004767d6-4367-42f0-8066-7e8af5b5dddf",
         "564ab6da-2ad3-4c5f-9e59-60de8d89fbcc",
         "2024-12-18 21:03:52.266",
         "50",
         "twitch"
        ],
        [
         "211",
         "004783a9-7790-4ed4-8051-6f73f5cef124",
         "64343fda-f940-4733-9cda-49d3e14f0362",
         "2024-02-19 12:14:44.897",
         "50",
         "twitch"
        ],
        [
         "228",
         "004b6564-478e-4061-ad56-205463be1602",
         "16f25c0e-f879-4453-b5d4-efebabc2881b",
         "2025-02-28 12:31:09.143",
         "50",
         "twitch"
        ],
        [
         "241",
         "004fbeb1-6c44-4388-85d5-a7ee80cb23e4",
         "13e42683-f0b1-4154-81d5-82025f82bd43",
         "2024-02-06 12:04:15.754",
         "50",
         "twitch"
        ],
        [
         "244",
         "00506ce3-721c-4151-9f6a-2ee9d5367275",
         "4e1e97b7-98a8-4fc4-9f79-7b6dfb173229",
         "2024-06-06 12:08:43.969",
         "50",
         "twitch"
        ],
        [
         "256",
         "00546a29-2f66-473f-96e1-bef1e510f52f",
         "9c909d1e-fa2a-47b0-8535-d9e44375f9f8",
         "2024-03-07 12:34:55.656",
         "50",
         "twitch"
        ],
        [
         "261",
         "00559f8f-cb0f-4c04-82d1-132e83644f14",
         "2bd8a05c-7fce-4ef5-99ec-6cb21a35a350",
         "2024-07-08 12:37:46.769",
         "50",
         "twitch"
        ],
        [
         "296",
         "00629d2e-fd2c-4374-b0e2-0627caa8b518",
         "2d3d2dce-d353-4961-ad39-46723efe2100",
         "2024-07-01 11:54:15.659",
         "50",
         "twitch"
        ],
        [
         "304",
         "0064dc09-7be0-4756-aa84-fb4c6348f7f3",
         "194282ca-358d-451b-9c86-30d4c797c231",
         "2024-07-19 11:53:15.051",
         "50",
         "twitch"
        ],
        [
         "305",
         "0065658f-2675-4030-95f7-760e58ec34b5",
         "0f2a5949-6767-4755-99c5-0634173a405c",
         "2024-07-09 11:58:06.729",
         "50",
         "twitch"
        ],
        [
         "320",
         "006b5d5b-8129-4b48-9678-e059780d2bf6",
         "dfa4b373-d4d7-41ad-ab95-182bb052f008",
         "2024-04-23 18:35:58.467",
         "50",
         "twitch"
        ],
        [
         "338",
         "00709c25-748f-468e-a418-e585b4aaa52f",
         "aa3eaf74-6d9c-4859-b733-5a18a3b2f71b",
         "2024-08-19 12:16:49.337",
         "50",
         "twitch"
        ],
        [
         "347",
         "00722282-694b-489b-b240-62b9f69a253a",
         "1cd31d33-7b05-4e9b-9776-cec770be61fa",
         "2024-08-30 12:43:53.482",
         "100",
         "twitch"
        ],
        [
         "349",
         "00723912-c7b3-4001-93a9-284c84607b59",
         "16e77e87-d93f-4716-af91-9d5350989af2",
         "2025-01-02 11:36:15.837",
         "50",
         "twitch"
        ],
        [
         "358",
         "007504b9-53d8-4f7f-b55a-687cc64a8df1",
         "00f9cc87-c956-4b27-92e2-c96c5774083e",
         "2024-04-02 12:05:11.480",
         "50",
         "twitch"
        ],
        [
         "384",
         "007eefdd-f6df-451d-8187-76c758dce4ef",
         "e5572682-9d3e-4699-b9ed-acdb31d88b38",
         "2025-02-12 11:46:06.498",
         "50",
         "twitch"
        ],
        [
         "413",
         "00876bf1-cf1b-4171-b848-63d98f9ec2c9",
         "156857a6-b4a5-467b-9616-6641f8bda12b",
         "2024-10-10 11:54:44.043",
         "100",
         "twitch"
        ],
        [
         "415",
         "0088339d-32c0-43b1-b5fc-d882216e4d10",
         "194282ca-358d-451b-9c86-30d4c797c231",
         "2024-11-22 11:38:04.044",
         "50",
         "twitch"
        ],
        [
         "429",
         "008cf3c6-9f6e-42b3-acd1-36b0d9ada3e8",
         "8533a936-0f75-4831-bd05-3c27f1f0987b",
         "2024-08-06 12:11:48.615",
         "50",
         "twitch"
        ],
        [
         "432",
         "008e854b-bdd6-433c-9396-4f74da8fc9c1",
         "3f55b86f-dc21-4ac8-8e89-7c1535359eaf",
         "2025-01-08 12:56:39.172",
         "50",
         "twitch"
        ],
        [
         "438",
         "008f94b4-7fcd-4d12-81f7-031292fae7cf",
         "e7c79c1a-7693-4e63-a844-c755e0bc3bd3",
         "2024-05-08 12:01:15.247",
         "50",
         "twitch"
        ]
       ],
       "shape": {
        "columns": 5,
        "rows": 26955
       }
      },
      "text/html": [
       "<div>\n",
       "<style scoped>\n",
       "    .dataframe tbody tr th:only-of-type {\n",
       "        vertical-align: middle;\n",
       "    }\n",
       "\n",
       "    .dataframe tbody tr th {\n",
       "        vertical-align: top;\n",
       "    }\n",
       "\n",
       "    .dataframe thead th {\n",
       "        text-align: right;\n",
       "    }\n",
       "</style>\n",
       "<table border=\"1\" class=\"dataframe\">\n",
       "  <thead>\n",
       "    <tr style=\"text-align: right;\">\n",
       "      <th></th>\n",
       "      <th>idTransacao</th>\n",
       "      <th>idCliente</th>\n",
       "      <th>dtCriacao</th>\n",
       "      <th>qtdePontos</th>\n",
       "      <th>descSistemaOrigem</th>\n",
       "    </tr>\n",
       "  </thead>\n",
       "  <tbody>\n",
       "    <tr>\n",
       "      <th>7</th>\n",
       "      <td>00028d36-4575-4d02-b2a0-bdae1bc83231</td>\n",
       "      <td>9d023e72-c799-40c0-907a-96e023a97959</td>\n",
       "      <td>2024-11-11 12:36:33.625</td>\n",
       "      <td>50</td>\n",
       "      <td>twitch</td>\n",
       "    </tr>\n",
       "    <tr>\n",
       "      <th>17</th>\n",
       "      <td>00068e23-5b1e-432a-83df-8a5d11e495a6</td>\n",
       "      <td>3f55b86f-dc21-4ac8-8e89-7c1535359eaf</td>\n",
       "      <td>2025-01-09 12:29:28.501</td>\n",
       "      <td>50</td>\n",
       "      <td>twitch</td>\n",
       "    </tr>\n",
       "    <tr>\n",
       "      <th>21</th>\n",
       "      <td>00079f55-6df7-45c9-ac84-e4adb788563a</td>\n",
       "      <td>aaad5474-eb6b-4da6-9755-a1d2541c42bd</td>\n",
       "      <td>2024-08-12 14:27:40.420</td>\n",
       "      <td>50</td>\n",
       "      <td>twitch</td>\n",
       "    </tr>\n",
       "    <tr>\n",
       "      <th>31</th>\n",
       "      <td>000a5367-79b0-4245-982e-151b75223556</td>\n",
       "      <td>ab981417-daec-4b56-9cfa-6881e0ea0d26</td>\n",
       "      <td>2024-03-01 22:36:59.941</td>\n",
       "      <td>50</td>\n",
       "      <td>twitch</td>\n",
       "    </tr>\n",
       "    <tr>\n",
       "      <th>32</th>\n",
       "      <td>000aa5b6-ca63-46c5-b9e5-6074d840dae0</td>\n",
       "      <td>1cd31d33-7b05-4e9b-9776-cec770be61fa</td>\n",
       "      <td>2024-05-28 11:56:02.163</td>\n",
       "      <td>50</td>\n",
       "      <td>twitch</td>\n",
       "    </tr>\n",
       "    <tr>\n",
       "      <th>...</th>\n",
       "      <td>...</td>\n",
       "      <td>...</td>\n",
       "      <td>...</td>\n",
       "      <td>...</td>\n",
       "      <td>...</td>\n",
       "    </tr>\n",
       "    <tr>\n",
       "      <th>182805</th>\n",
       "      <td>fff543d3-fb83-4e5f-8f22-154a51abcd93</td>\n",
       "      <td>7107771a-0558-4aaa-a66e-570205a7f367</td>\n",
       "      <td>2024-08-08 12:08:20.484</td>\n",
       "      <td>50</td>\n",
       "      <td>twitch</td>\n",
       "    </tr>\n",
       "    <tr>\n",
       "      <th>182813</th>\n",
       "      <td>fff97b21-63f3-4289-afe8-e672b1306296</td>\n",
       "      <td>a4b70d73-1938-4f27-b1e5-973526894b10</td>\n",
       "      <td>2024-04-16 12:48:10.581</td>\n",
       "      <td>50</td>\n",
       "      <td>twitch</td>\n",
       "    </tr>\n",
       "    <tr>\n",
       "      <th>182821</th>\n",
       "      <td>fffb4d1f-5197-470f-936e-f7289bc5c878</td>\n",
       "      <td>9aba2685-7c0a-4d1f-8e22-0c47ca0af580</td>\n",
       "      <td>2024-02-29 12:35:20.673</td>\n",
       "      <td>50</td>\n",
       "      <td>twitch</td>\n",
       "    </tr>\n",
       "    <tr>\n",
       "      <th>182824</th>\n",
       "      <td>fffba02b-d70c-4bfc-aa51-a4b66b442d53</td>\n",
       "      <td>ca35412d-b340-4e7d-a391-020ec6bb6517</td>\n",
       "      <td>2024-07-04 12:53:21.075</td>\n",
       "      <td>50</td>\n",
       "      <td>twitch</td>\n",
       "    </tr>\n",
       "    <tr>\n",
       "      <th>182826</th>\n",
       "      <td>fffd47aa-3e8f-4cd1-a125-342721ad4a45</td>\n",
       "      <td>fcda54f6-b9e9-41cf-b255-0594d9947d1b</td>\n",
       "      <td>2024-08-12 12:46:44.489</td>\n",
       "      <td>100</td>\n",
       "      <td>twitch</td>\n",
       "    </tr>\n",
       "  </tbody>\n",
       "</table>\n",
       "<p>26955 rows × 5 columns</p>\n",
       "</div>"
      ],
      "text/plain": [
       "                                 idTransacao  \\\n",
       "7       00028d36-4575-4d02-b2a0-bdae1bc83231   \n",
       "17      00068e23-5b1e-432a-83df-8a5d11e495a6   \n",
       "21      00079f55-6df7-45c9-ac84-e4adb788563a   \n",
       "31      000a5367-79b0-4245-982e-151b75223556   \n",
       "32      000aa5b6-ca63-46c5-b9e5-6074d840dae0   \n",
       "...                                      ...   \n",
       "182805  fff543d3-fb83-4e5f-8f22-154a51abcd93   \n",
       "182813  fff97b21-63f3-4289-afe8-e672b1306296   \n",
       "182821  fffb4d1f-5197-470f-936e-f7289bc5c878   \n",
       "182824  fffba02b-d70c-4bfc-aa51-a4b66b442d53   \n",
       "182826  fffd47aa-3e8f-4cd1-a125-342721ad4a45   \n",
       "\n",
       "                                   idCliente                dtCriacao  \\\n",
       "7       9d023e72-c799-40c0-907a-96e023a97959  2024-11-11 12:36:33.625   \n",
       "17      3f55b86f-dc21-4ac8-8e89-7c1535359eaf  2025-01-09 12:29:28.501   \n",
       "21      aaad5474-eb6b-4da6-9755-a1d2541c42bd  2024-08-12 14:27:40.420   \n",
       "31      ab981417-daec-4b56-9cfa-6881e0ea0d26  2024-03-01 22:36:59.941   \n",
       "32      1cd31d33-7b05-4e9b-9776-cec770be61fa  2024-05-28 11:56:02.163   \n",
       "...                                      ...                      ...   \n",
       "182805  7107771a-0558-4aaa-a66e-570205a7f367  2024-08-08 12:08:20.484   \n",
       "182813  a4b70d73-1938-4f27-b1e5-973526894b10  2024-04-16 12:48:10.581   \n",
       "182821  9aba2685-7c0a-4d1f-8e22-0c47ca0af580  2024-02-29 12:35:20.673   \n",
       "182824  ca35412d-b340-4e7d-a391-020ec6bb6517  2024-07-04 12:53:21.075   \n",
       "182826  fcda54f6-b9e9-41cf-b255-0594d9947d1b  2024-08-12 12:46:44.489   \n",
       "\n",
       "        qtdePontos descSistemaOrigem  \n",
       "7               50            twitch  \n",
       "17              50            twitch  \n",
       "21              50            twitch  \n",
       "31              50            twitch  \n",
       "32              50            twitch  \n",
       "...            ...               ...  \n",
       "182805          50            twitch  \n",
       "182813          50            twitch  \n",
       "182821          50            twitch  \n",
       "182824          50            twitch  \n",
       "182826         100            twitch  \n",
       "\n",
       "[26955 rows x 5 columns]"
      ]
     },
     "execution_count": 27,
     "metadata": {},
     "output_type": "execute_result"
    }
   ],
   "source": [
    "# Agora qtdePontos é maior igual a 50 e menor igual a 100\n",
    "df[(df[\"qtdePontos\"] >= 50) & (df[\"qtdePontos\"] <= 100)]"
   ]
  },
  {
   "cell_type": "code",
   "execution_count": 33,
   "id": "16f7f3d2",
   "metadata": {},
   "outputs": [
    {
     "data": {
      "application/vnd.microsoft.datawrangler.viewer.v0+json": {
       "columns": [
        {
         "name": "index",
         "rawType": "int64",
         "type": "integer"
        },
        {
         "name": "idTransacao",
         "rawType": "object",
         "type": "string"
        },
        {
         "name": "idCliente",
         "rawType": "object",
         "type": "string"
        },
        {
         "name": "dtCriacao",
         "rawType": "object",
         "type": "string"
        },
        {
         "name": "qtdePontos",
         "rawType": "int64",
         "type": "integer"
        },
        {
         "name": "descSistemaOrigem",
         "rawType": "object",
         "type": "string"
        }
       ],
       "conversionMethod": "pd.DataFrame",
       "ref": "b8557270-31df-42a6-9d5c-c27ff2748330",
       "rows": [
        [
         "7",
         "00028d36-4575-4d02-b2a0-bdae1bc83231",
         "9d023e72-c799-40c0-907a-96e023a97959",
         "2024-11-11 12:36:33.625",
         "50",
         "twitch"
        ],
        [
         "17",
         "00068e23-5b1e-432a-83df-8a5d11e495a6",
         "3f55b86f-dc21-4ac8-8e89-7c1535359eaf",
         "2025-01-09 12:29:28.501",
         "50",
         "twitch"
        ],
        [
         "21",
         "00079f55-6df7-45c9-ac84-e4adb788563a",
         "aaad5474-eb6b-4da6-9755-a1d2541c42bd",
         "2024-08-12 14:27:40.420",
         "50",
         "twitch"
        ],
        [
         "31",
         "000a5367-79b0-4245-982e-151b75223556",
         "ab981417-daec-4b56-9cfa-6881e0ea0d26",
         "2024-03-01 22:36:59.941",
         "50",
         "twitch"
        ],
        [
         "32",
         "000aa5b6-ca63-46c5-b9e5-6074d840dae0",
         "1cd31d33-7b05-4e9b-9776-cec770be61fa",
         "2024-05-28 11:56:02.163",
         "50",
         "twitch"
        ],
        [
         "44",
         "000f0dfa-8259-46ee-bfeb-4bf22791ea98",
         "99431a0f-1f38-47ab-9136-445c7afae00d",
         "2024-04-12 12:17:22.987",
         "50",
         "twitch"
        ],
        [
         "51",
         "001025fc-27ce-4dcb-ac80-ba502005f243",
         "8ad464d3-551c-4af1-beec-c5e19061e127",
         "2024-09-09 12:02:05.370",
         "50",
         "twitch"
        ],
        [
         "53",
         "0011577c-393b-4391-869e-11926ae890f1",
         "21c51dc0-9eb8-46da-8d4e-8ebfe3e84a05",
         "2024-03-22 13:29:31.902",
         "50",
         "twitch"
        ],
        [
         "56",
         "00124d34-430f-4048-8f24-eb2181e237e7",
         "14d59794-f89e-4623-b4ba-a6c4d76b3040",
         "2024-06-19 12:54:43.473",
         "50",
         "twitch"
        ],
        [
         "67",
         "00161c15-de65-4a27-a537-e82f631b6293",
         "4fade907-6e0f-4581-a674-aad6622b1b10",
         "2025-02-07 12:08:49.922",
         "50",
         "twitch"
        ],
        [
         "69",
         "0016dc25-0e00-48ee-86e8-6d14764e816a",
         "fcda54f6-b9e9-41cf-b255-0594d9947d1b",
         "2024-12-06 11:49:30.490",
         "50",
         "twitch"
        ],
        [
         "74",
         "0017a05b-6228-4cd4-9330-72bc29c5c223",
         "f00cab8d-1c96-4e8e-9c52-f7ca96b4b321",
         "2024-03-05 12:45:35.777",
         "50",
         "twitch"
        ],
        [
         "75",
         "0017c5cf-7d73-46e4-a99c-2b45423313ea",
         "6f69f00a-28cd-4dab-a3ea-9380ef407de6",
         "2024-09-02 12:58:10.440",
         "50",
         "twitch"
        ],
        [
         "76",
         "0017d51f-84b9-43f9-9fc9-e7b760d96cd6",
         "4aa3b776-69ee-4ed9-99e2-bf32f1b4e29c",
         "2025-02-17 11:03:29.544",
         "50",
         "twitch"
        ],
        [
         "93",
         "001d31ed-8018-416c-a7d1-2844dde2e132",
         "fb3e3d1e-3e12-48ea-ba61-ce8aaec0b231",
         "2024-02-22 12:23:31.860",
         "50",
         "twitch"
        ],
        [
         "101",
         "0020ca7e-dbd9-41b6-98de-fe25c9a8159b",
         "e7c79c1a-7693-4e63-a844-c755e0bc3bd3",
         "2025-01-27 11:10:57.328",
         "50",
         "twitch"
        ],
        [
         "107",
         "00211c61-1983-4087-87d7-57bc800e6aa0",
         "0bedbd0f-25d4-4594-ad7d-46766f4522be",
         "2024-04-05 13:35:00.188",
         "50",
         "twitch"
        ],
        [
         "108",
         "00212994-fa3d-4a65-aa3f-23b573ef8abd",
         "9477a7ef-b635-41ee-a437-084a90f1064e",
         "2024-03-27 11:56:55.734",
         "50",
         "twitch"
        ],
        [
         "109",
         "00214d66-bf1d-452e-93c5-7e197933e7c0",
         "aa3eaf74-6d9c-4859-b733-5a18a3b2f71b",
         "2024-06-12 13:35:26.578",
         "50",
         "twitch"
        ],
        [
         "115",
         "002200a1-0b2f-4297-814d-d9fbefa204e4",
         "c9db4e56-2010-4100-83d7-deec037b9ef6",
         "2024-04-23 12:06:17.499",
         "50",
         "twitch"
        ],
        [
         "119",
         "0023af87-f840-4dfa-8c48-e1b9cd7621e5",
         "98953b1a-ae7e-4e50-b264-bdda6c3a4a6d",
         "2024-03-19 12:05:45.326",
         "50",
         "twitch"
        ],
        [
         "130",
         "0029068e-ad20-4295-822d-876b0f39957d",
         "3bd342b6-e5ff-456b-b8e7-8aabbe9f0a32",
         "2024-03-07 12:07:25.463",
         "50",
         "twitch"
        ],
        [
         "133",
         "002a4a23-e22f-419c-a81e-9978fd401556",
         "85545400-ea0a-4f32-8b50-4e0833050b6c",
         "2024-08-30 12:05:11.753",
         "50",
         "twitch"
        ],
        [
         "180",
         "003bd57d-f18e-4ac5-b71c-57e4a1b1e05a",
         "a8dcc2fe-a5fb-4386-9824-034abdfb7fd7",
         "2024-04-23 18:12:11.808",
         "50",
         "twitch"
        ],
        [
         "188",
         "003f4bd5-50bf-4071-87e7-823ad29d3629",
         "5b7a7182-854c-42f3-b459-752bd3e4f0bf",
         "2024-06-25 12:06:06.862",
         "50",
         "twitch"
        ],
        [
         "191",
         "0040836c-48e2-4752-aaab-227a5065f55a",
         "4319b55f-c6bd-4a0c-b131-f93e287fd499",
         "2024-05-16 12:42:08.248",
         "50",
         "twitch"
        ],
        [
         "193",
         "0040a76f-6f19-4a2b-a60e-ab49e23e99c8",
         "87040a44-0e04-4cc1-ad91-072d167b11b1",
         "2024-07-02 13:10:08.663",
         "50",
         "twitch"
        ],
        [
         "208",
         "0046f0ed-2a56-4b64-978e-092efdec3211",
         "14d59794-f89e-4623-b4ba-a6c4d76b3040",
         "2024-06-17 12:02:55.253",
         "50",
         "twitch"
        ],
        [
         "210",
         "004767d6-4367-42f0-8066-7e8af5b5dddf",
         "564ab6da-2ad3-4c5f-9e59-60de8d89fbcc",
         "2024-12-18 21:03:52.266",
         "50",
         "twitch"
        ],
        [
         "211",
         "004783a9-7790-4ed4-8051-6f73f5cef124",
         "64343fda-f940-4733-9cda-49d3e14f0362",
         "2024-02-19 12:14:44.897",
         "50",
         "twitch"
        ],
        [
         "228",
         "004b6564-478e-4061-ad56-205463be1602",
         "16f25c0e-f879-4453-b5d4-efebabc2881b",
         "2025-02-28 12:31:09.143",
         "50",
         "twitch"
        ],
        [
         "241",
         "004fbeb1-6c44-4388-85d5-a7ee80cb23e4",
         "13e42683-f0b1-4154-81d5-82025f82bd43",
         "2024-02-06 12:04:15.754",
         "50",
         "twitch"
        ],
        [
         "244",
         "00506ce3-721c-4151-9f6a-2ee9d5367275",
         "4e1e97b7-98a8-4fc4-9f79-7b6dfb173229",
         "2024-06-06 12:08:43.969",
         "50",
         "twitch"
        ],
        [
         "256",
         "00546a29-2f66-473f-96e1-bef1e510f52f",
         "9c909d1e-fa2a-47b0-8535-d9e44375f9f8",
         "2024-03-07 12:34:55.656",
         "50",
         "twitch"
        ],
        [
         "261",
         "00559f8f-cb0f-4c04-82d1-132e83644f14",
         "2bd8a05c-7fce-4ef5-99ec-6cb21a35a350",
         "2024-07-08 12:37:46.769",
         "50",
         "twitch"
        ],
        [
         "296",
         "00629d2e-fd2c-4374-b0e2-0627caa8b518",
         "2d3d2dce-d353-4961-ad39-46723efe2100",
         "2024-07-01 11:54:15.659",
         "50",
         "twitch"
        ],
        [
         "304",
         "0064dc09-7be0-4756-aa84-fb4c6348f7f3",
         "194282ca-358d-451b-9c86-30d4c797c231",
         "2024-07-19 11:53:15.051",
         "50",
         "twitch"
        ],
        [
         "305",
         "0065658f-2675-4030-95f7-760e58ec34b5",
         "0f2a5949-6767-4755-99c5-0634173a405c",
         "2024-07-09 11:58:06.729",
         "50",
         "twitch"
        ],
        [
         "320",
         "006b5d5b-8129-4b48-9678-e059780d2bf6",
         "dfa4b373-d4d7-41ad-ab95-182bb052f008",
         "2024-04-23 18:35:58.467",
         "50",
         "twitch"
        ],
        [
         "338",
         "00709c25-748f-468e-a418-e585b4aaa52f",
         "aa3eaf74-6d9c-4859-b733-5a18a3b2f71b",
         "2024-08-19 12:16:49.337",
         "50",
         "twitch"
        ],
        [
         "349",
         "00723912-c7b3-4001-93a9-284c84607b59",
         "16e77e87-d93f-4716-af91-9d5350989af2",
         "2025-01-02 11:36:15.837",
         "50",
         "twitch"
        ],
        [
         "358",
         "007504b9-53d8-4f7f-b55a-687cc64a8df1",
         "00f9cc87-c956-4b27-92e2-c96c5774083e",
         "2024-04-02 12:05:11.480",
         "50",
         "twitch"
        ],
        [
         "384",
         "007eefdd-f6df-451d-8187-76c758dce4ef",
         "e5572682-9d3e-4699-b9ed-acdb31d88b38",
         "2025-02-12 11:46:06.498",
         "50",
         "twitch"
        ],
        [
         "415",
         "0088339d-32c0-43b1-b5fc-d882216e4d10",
         "194282ca-358d-451b-9c86-30d4c797c231",
         "2024-11-22 11:38:04.044",
         "50",
         "twitch"
        ],
        [
         "429",
         "008cf3c6-9f6e-42b3-acd1-36b0d9ada3e8",
         "8533a936-0f75-4831-bd05-3c27f1f0987b",
         "2024-08-06 12:11:48.615",
         "50",
         "twitch"
        ],
        [
         "432",
         "008e854b-bdd6-433c-9396-4f74da8fc9c1",
         "3f55b86f-dc21-4ac8-8e89-7c1535359eaf",
         "2025-01-08 12:56:39.172",
         "50",
         "twitch"
        ],
        [
         "438",
         "008f94b4-7fcd-4d12-81f7-031292fae7cf",
         "e7c79c1a-7693-4e63-a844-c755e0bc3bd3",
         "2024-05-08 12:01:15.247",
         "50",
         "twitch"
        ],
        [
         "454",
         "00959b0b-7c7a-4c72-bbe1-32529cd139ba",
         "820c0e06-c405-4979-8975-ecfa17abb0f9",
         "2025-01-06 11:48:55.199",
         "50",
         "twitch"
        ],
        [
         "456",
         "0096e2d8-296e-4a0b-a045-241447ab6335",
         "aa3eaf74-6d9c-4859-b733-5a18a3b2f71b",
         "2024-12-20 11:37:07.291",
         "50",
         "twitch"
        ],
        [
         "462",
         "0098de67-962f-4d35-bffb-7d48ea7a1d1b",
         "6f69f00a-28cd-4dab-a3ea-9380ef407de6",
         "2024-04-23 11:54:40.294",
         "50",
         "twitch"
        ]
       ],
       "shape": {
        "columns": 5,
        "rows": 24255
       }
      },
      "text/html": [
       "<div>\n",
       "<style scoped>\n",
       "    .dataframe tbody tr th:only-of-type {\n",
       "        vertical-align: middle;\n",
       "    }\n",
       "\n",
       "    .dataframe tbody tr th {\n",
       "        vertical-align: top;\n",
       "    }\n",
       "\n",
       "    .dataframe thead th {\n",
       "        text-align: right;\n",
       "    }\n",
       "</style>\n",
       "<table border=\"1\" class=\"dataframe\">\n",
       "  <thead>\n",
       "    <tr style=\"text-align: right;\">\n",
       "      <th></th>\n",
       "      <th>idTransacao</th>\n",
       "      <th>idCliente</th>\n",
       "      <th>dtCriacao</th>\n",
       "      <th>qtdePontos</th>\n",
       "      <th>descSistemaOrigem</th>\n",
       "    </tr>\n",
       "  </thead>\n",
       "  <tbody>\n",
       "    <tr>\n",
       "      <th>7</th>\n",
       "      <td>00028d36-4575-4d02-b2a0-bdae1bc83231</td>\n",
       "      <td>9d023e72-c799-40c0-907a-96e023a97959</td>\n",
       "      <td>2024-11-11 12:36:33.625</td>\n",
       "      <td>50</td>\n",
       "      <td>twitch</td>\n",
       "    </tr>\n",
       "    <tr>\n",
       "      <th>17</th>\n",
       "      <td>00068e23-5b1e-432a-83df-8a5d11e495a6</td>\n",
       "      <td>3f55b86f-dc21-4ac8-8e89-7c1535359eaf</td>\n",
       "      <td>2025-01-09 12:29:28.501</td>\n",
       "      <td>50</td>\n",
       "      <td>twitch</td>\n",
       "    </tr>\n",
       "    <tr>\n",
       "      <th>21</th>\n",
       "      <td>00079f55-6df7-45c9-ac84-e4adb788563a</td>\n",
       "      <td>aaad5474-eb6b-4da6-9755-a1d2541c42bd</td>\n",
       "      <td>2024-08-12 14:27:40.420</td>\n",
       "      <td>50</td>\n",
       "      <td>twitch</td>\n",
       "    </tr>\n",
       "    <tr>\n",
       "      <th>31</th>\n",
       "      <td>000a5367-79b0-4245-982e-151b75223556</td>\n",
       "      <td>ab981417-daec-4b56-9cfa-6881e0ea0d26</td>\n",
       "      <td>2024-03-01 22:36:59.941</td>\n",
       "      <td>50</td>\n",
       "      <td>twitch</td>\n",
       "    </tr>\n",
       "    <tr>\n",
       "      <th>32</th>\n",
       "      <td>000aa5b6-ca63-46c5-b9e5-6074d840dae0</td>\n",
       "      <td>1cd31d33-7b05-4e9b-9776-cec770be61fa</td>\n",
       "      <td>2024-05-28 11:56:02.163</td>\n",
       "      <td>50</td>\n",
       "      <td>twitch</td>\n",
       "    </tr>\n",
       "    <tr>\n",
       "      <th>...</th>\n",
       "      <td>...</td>\n",
       "      <td>...</td>\n",
       "      <td>...</td>\n",
       "      <td>...</td>\n",
       "      <td>...</td>\n",
       "    </tr>\n",
       "    <tr>\n",
       "      <th>182798</th>\n",
       "      <td>fff35423-d884-4ee4-bdc6-188db01e4af6</td>\n",
       "      <td>1856963a-84cb-453e-a139-eb7d8d9b3255</td>\n",
       "      <td>2024-07-05 11:51:54.294</td>\n",
       "      <td>50</td>\n",
       "      <td>twitch</td>\n",
       "    </tr>\n",
       "    <tr>\n",
       "      <th>182805</th>\n",
       "      <td>fff543d3-fb83-4e5f-8f22-154a51abcd93</td>\n",
       "      <td>7107771a-0558-4aaa-a66e-570205a7f367</td>\n",
       "      <td>2024-08-08 12:08:20.484</td>\n",
       "      <td>50</td>\n",
       "      <td>twitch</td>\n",
       "    </tr>\n",
       "    <tr>\n",
       "      <th>182813</th>\n",
       "      <td>fff97b21-63f3-4289-afe8-e672b1306296</td>\n",
       "      <td>a4b70d73-1938-4f27-b1e5-973526894b10</td>\n",
       "      <td>2024-04-16 12:48:10.581</td>\n",
       "      <td>50</td>\n",
       "      <td>twitch</td>\n",
       "    </tr>\n",
       "    <tr>\n",
       "      <th>182821</th>\n",
       "      <td>fffb4d1f-5197-470f-936e-f7289bc5c878</td>\n",
       "      <td>9aba2685-7c0a-4d1f-8e22-0c47ca0af580</td>\n",
       "      <td>2024-02-29 12:35:20.673</td>\n",
       "      <td>50</td>\n",
       "      <td>twitch</td>\n",
       "    </tr>\n",
       "    <tr>\n",
       "      <th>182824</th>\n",
       "      <td>fffba02b-d70c-4bfc-aa51-a4b66b442d53</td>\n",
       "      <td>ca35412d-b340-4e7d-a391-020ec6bb6517</td>\n",
       "      <td>2024-07-04 12:53:21.075</td>\n",
       "      <td>50</td>\n",
       "      <td>twitch</td>\n",
       "    </tr>\n",
       "  </tbody>\n",
       "</table>\n",
       "<p>24255 rows × 5 columns</p>\n",
       "</div>"
      ],
      "text/plain": [
       "                                 idTransacao  \\\n",
       "7       00028d36-4575-4d02-b2a0-bdae1bc83231   \n",
       "17      00068e23-5b1e-432a-83df-8a5d11e495a6   \n",
       "21      00079f55-6df7-45c9-ac84-e4adb788563a   \n",
       "31      000a5367-79b0-4245-982e-151b75223556   \n",
       "32      000aa5b6-ca63-46c5-b9e5-6074d840dae0   \n",
       "...                                      ...   \n",
       "182798  fff35423-d884-4ee4-bdc6-188db01e4af6   \n",
       "182805  fff543d3-fb83-4e5f-8f22-154a51abcd93   \n",
       "182813  fff97b21-63f3-4289-afe8-e672b1306296   \n",
       "182821  fffb4d1f-5197-470f-936e-f7289bc5c878   \n",
       "182824  fffba02b-d70c-4bfc-aa51-a4b66b442d53   \n",
       "\n",
       "                                   idCliente                dtCriacao  \\\n",
       "7       9d023e72-c799-40c0-907a-96e023a97959  2024-11-11 12:36:33.625   \n",
       "17      3f55b86f-dc21-4ac8-8e89-7c1535359eaf  2025-01-09 12:29:28.501   \n",
       "21      aaad5474-eb6b-4da6-9755-a1d2541c42bd  2024-08-12 14:27:40.420   \n",
       "31      ab981417-daec-4b56-9cfa-6881e0ea0d26  2024-03-01 22:36:59.941   \n",
       "32      1cd31d33-7b05-4e9b-9776-cec770be61fa  2024-05-28 11:56:02.163   \n",
       "...                                      ...                      ...   \n",
       "182798  1856963a-84cb-453e-a139-eb7d8d9b3255  2024-07-05 11:51:54.294   \n",
       "182805  7107771a-0558-4aaa-a66e-570205a7f367  2024-08-08 12:08:20.484   \n",
       "182813  a4b70d73-1938-4f27-b1e5-973526894b10  2024-04-16 12:48:10.581   \n",
       "182821  9aba2685-7c0a-4d1f-8e22-0c47ca0af580  2024-02-29 12:35:20.673   \n",
       "182824  ca35412d-b340-4e7d-a391-020ec6bb6517  2024-07-04 12:53:21.075   \n",
       "\n",
       "        qtdePontos descSistemaOrigem  \n",
       "7               50            twitch  \n",
       "17              50            twitch  \n",
       "21              50            twitch  \n",
       "31              50            twitch  \n",
       "32              50            twitch  \n",
       "...            ...               ...  \n",
       "182798          50            twitch  \n",
       "182805          50            twitch  \n",
       "182813          50            twitch  \n",
       "182821          50            twitch  \n",
       "182824          50            twitch  \n",
       "\n",
       "[24255 rows x 5 columns]"
      ]
     },
     "execution_count": 33,
     "metadata": {},
     "output_type": "execute_result"
    }
   ],
   "source": [
    "# Caso eu nao queria usar o operador & poderia simplesmente Multiplicar\n",
    "# Mas porque isso funciona?\n",
    "# A tabela verdade para o operador AND é a seguinte:\n",
    "# True and True  = True\n",
    "# True and False = False\n",
    "# False and True  = False\n",
    "# False and False = False\n",
    "# No final eu estou multiplicando 1 e 0, onde 1 = True e 0 = False\n",
    "# E o resultado é o mesmo que o operador AND\n",
    "# Com base nessa tabela, o calculo ficaria assim:\n",
    "filtrado = (df[\"qtdePontos\"] >= 50) * (df[\"qtdePontos\"] < 100)\n",
    "df[filtrado]"
   ]
  },
  {
   "cell_type": "code",
   "execution_count": 38,
   "id": "964d47f7",
   "metadata": {},
   "outputs": [
    {
     "data": {
      "application/vnd.microsoft.datawrangler.viewer.v0+json": {
       "columns": [
        {
         "name": "index",
         "rawType": "int64",
         "type": "integer"
        },
        {
         "name": "idTransacao",
         "rawType": "object",
         "type": "string"
        },
        {
         "name": "idCliente",
         "rawType": "object",
         "type": "string"
        },
        {
         "name": "dtCriacao",
         "rawType": "object",
         "type": "string"
        },
        {
         "name": "qtdePontos",
         "rawType": "int64",
         "type": "integer"
        },
        {
         "name": "descSistemaOrigem",
         "rawType": "object",
         "type": "string"
        }
       ],
       "conversionMethod": "pd.DataFrame",
       "ref": "c4de82b3-243f-47df-8e18-dbfb7b1cff41",
       "rows": [
        [
         "7",
         "00028d36-4575-4d02-b2a0-bdae1bc83231",
         "9d023e72-c799-40c0-907a-96e023a97959",
         "2024-11-11 12:36:33.625",
         "50",
         "twitch"
        ],
        [
         "17",
         "00068e23-5b1e-432a-83df-8a5d11e495a6",
         "3f55b86f-dc21-4ac8-8e89-7c1535359eaf",
         "2025-01-09 12:29:28.501",
         "50",
         "twitch"
        ],
        [
         "21",
         "00079f55-6df7-45c9-ac84-e4adb788563a",
         "aaad5474-eb6b-4da6-9755-a1d2541c42bd",
         "2024-08-12 14:27:40.420",
         "50",
         "twitch"
        ],
        [
         "31",
         "000a5367-79b0-4245-982e-151b75223556",
         "ab981417-daec-4b56-9cfa-6881e0ea0d26",
         "2024-03-01 22:36:59.941",
         "50",
         "twitch"
        ],
        [
         "32",
         "000aa5b6-ca63-46c5-b9e5-6074d840dae0",
         "1cd31d33-7b05-4e9b-9776-cec770be61fa",
         "2024-05-28 11:56:02.163",
         "50",
         "twitch"
        ],
        [
         "44",
         "000f0dfa-8259-46ee-bfeb-4bf22791ea98",
         "99431a0f-1f38-47ab-9136-445c7afae00d",
         "2024-04-12 12:17:22.987",
         "50",
         "twitch"
        ],
        [
         "51",
         "001025fc-27ce-4dcb-ac80-ba502005f243",
         "8ad464d3-551c-4af1-beec-c5e19061e127",
         "2024-09-09 12:02:05.370",
         "50",
         "twitch"
        ],
        [
         "53",
         "0011577c-393b-4391-869e-11926ae890f1",
         "21c51dc0-9eb8-46da-8d4e-8ebfe3e84a05",
         "2024-03-22 13:29:31.902",
         "50",
         "twitch"
        ],
        [
         "56",
         "00124d34-430f-4048-8f24-eb2181e237e7",
         "14d59794-f89e-4623-b4ba-a6c4d76b3040",
         "2024-06-19 12:54:43.473",
         "50",
         "twitch"
        ],
        [
         "67",
         "00161c15-de65-4a27-a537-e82f631b6293",
         "4fade907-6e0f-4581-a674-aad6622b1b10",
         "2025-02-07 12:08:49.922",
         "50",
         "twitch"
        ],
        [
         "69",
         "0016dc25-0e00-48ee-86e8-6d14764e816a",
         "fcda54f6-b9e9-41cf-b255-0594d9947d1b",
         "2024-12-06 11:49:30.490",
         "50",
         "twitch"
        ],
        [
         "74",
         "0017a05b-6228-4cd4-9330-72bc29c5c223",
         "f00cab8d-1c96-4e8e-9c52-f7ca96b4b321",
         "2024-03-05 12:45:35.777",
         "50",
         "twitch"
        ],
        [
         "75",
         "0017c5cf-7d73-46e4-a99c-2b45423313ea",
         "6f69f00a-28cd-4dab-a3ea-9380ef407de6",
         "2024-09-02 12:58:10.440",
         "50",
         "twitch"
        ],
        [
         "76",
         "0017d51f-84b9-43f9-9fc9-e7b760d96cd6",
         "4aa3b776-69ee-4ed9-99e2-bf32f1b4e29c",
         "2025-02-17 11:03:29.544",
         "50",
         "twitch"
        ],
        [
         "93",
         "001d31ed-8018-416c-a7d1-2844dde2e132",
         "fb3e3d1e-3e12-48ea-ba61-ce8aaec0b231",
         "2024-02-22 12:23:31.860",
         "50",
         "twitch"
        ],
        [
         "101",
         "0020ca7e-dbd9-41b6-98de-fe25c9a8159b",
         "e7c79c1a-7693-4e63-a844-c755e0bc3bd3",
         "2025-01-27 11:10:57.328",
         "50",
         "twitch"
        ],
        [
         "107",
         "00211c61-1983-4087-87d7-57bc800e6aa0",
         "0bedbd0f-25d4-4594-ad7d-46766f4522be",
         "2024-04-05 13:35:00.188",
         "50",
         "twitch"
        ],
        [
         "108",
         "00212994-fa3d-4a65-aa3f-23b573ef8abd",
         "9477a7ef-b635-41ee-a437-084a90f1064e",
         "2024-03-27 11:56:55.734",
         "50",
         "twitch"
        ],
        [
         "109",
         "00214d66-bf1d-452e-93c5-7e197933e7c0",
         "aa3eaf74-6d9c-4859-b733-5a18a3b2f71b",
         "2024-06-12 13:35:26.578",
         "50",
         "twitch"
        ],
        [
         "115",
         "002200a1-0b2f-4297-814d-d9fbefa204e4",
         "c9db4e56-2010-4100-83d7-deec037b9ef6",
         "2024-04-23 12:06:17.499",
         "50",
         "twitch"
        ],
        [
         "119",
         "0023af87-f840-4dfa-8c48-e1b9cd7621e5",
         "98953b1a-ae7e-4e50-b264-bdda6c3a4a6d",
         "2024-03-19 12:05:45.326",
         "50",
         "twitch"
        ],
        [
         "130",
         "0029068e-ad20-4295-822d-876b0f39957d",
         "3bd342b6-e5ff-456b-b8e7-8aabbe9f0a32",
         "2024-03-07 12:07:25.463",
         "50",
         "twitch"
        ],
        [
         "133",
         "002a4a23-e22f-419c-a81e-9978fd401556",
         "85545400-ea0a-4f32-8b50-4e0833050b6c",
         "2024-08-30 12:05:11.753",
         "50",
         "twitch"
        ],
        [
         "153",
         "00306432-3819-46a7-8fe1-4bccc61121b7",
         "00a6d4c8-38e5-4e92-981e-4e4ac5084546",
         "2024-08-27 12:01:24.968",
         "100",
         "twitch"
        ],
        [
         "180",
         "003bd57d-f18e-4ac5-b71c-57e4a1b1e05a",
         "a8dcc2fe-a5fb-4386-9824-034abdfb7fd7",
         "2024-04-23 18:12:11.808",
         "50",
         "twitch"
        ],
        [
         "188",
         "003f4bd5-50bf-4071-87e7-823ad29d3629",
         "5b7a7182-854c-42f3-b459-752bd3e4f0bf",
         "2024-06-25 12:06:06.862",
         "50",
         "twitch"
        ],
        [
         "191",
         "0040836c-48e2-4752-aaab-227a5065f55a",
         "4319b55f-c6bd-4a0c-b131-f93e287fd499",
         "2024-05-16 12:42:08.248",
         "50",
         "twitch"
        ],
        [
         "193",
         "0040a76f-6f19-4a2b-a60e-ab49e23e99c8",
         "87040a44-0e04-4cc1-ad91-072d167b11b1",
         "2024-07-02 13:10:08.663",
         "50",
         "twitch"
        ],
        [
         "208",
         "0046f0ed-2a56-4b64-978e-092efdec3211",
         "14d59794-f89e-4623-b4ba-a6c4d76b3040",
         "2024-06-17 12:02:55.253",
         "50",
         "twitch"
        ],
        [
         "210",
         "004767d6-4367-42f0-8066-7e8af5b5dddf",
         "564ab6da-2ad3-4c5f-9e59-60de8d89fbcc",
         "2024-12-18 21:03:52.266",
         "50",
         "twitch"
        ],
        [
         "211",
         "004783a9-7790-4ed4-8051-6f73f5cef124",
         "64343fda-f940-4733-9cda-49d3e14f0362",
         "2024-02-19 12:14:44.897",
         "50",
         "twitch"
        ],
        [
         "228",
         "004b6564-478e-4061-ad56-205463be1602",
         "16f25c0e-f879-4453-b5d4-efebabc2881b",
         "2025-02-28 12:31:09.143",
         "50",
         "twitch"
        ],
        [
         "241",
         "004fbeb1-6c44-4388-85d5-a7ee80cb23e4",
         "13e42683-f0b1-4154-81d5-82025f82bd43",
         "2024-02-06 12:04:15.754",
         "50",
         "twitch"
        ],
        [
         "244",
         "00506ce3-721c-4151-9f6a-2ee9d5367275",
         "4e1e97b7-98a8-4fc4-9f79-7b6dfb173229",
         "2024-06-06 12:08:43.969",
         "50",
         "twitch"
        ],
        [
         "256",
         "00546a29-2f66-473f-96e1-bef1e510f52f",
         "9c909d1e-fa2a-47b0-8535-d9e44375f9f8",
         "2024-03-07 12:34:55.656",
         "50",
         "twitch"
        ],
        [
         "261",
         "00559f8f-cb0f-4c04-82d1-132e83644f14",
         "2bd8a05c-7fce-4ef5-99ec-6cb21a35a350",
         "2024-07-08 12:37:46.769",
         "50",
         "twitch"
        ],
        [
         "296",
         "00629d2e-fd2c-4374-b0e2-0627caa8b518",
         "2d3d2dce-d353-4961-ad39-46723efe2100",
         "2024-07-01 11:54:15.659",
         "50",
         "twitch"
        ],
        [
         "304",
         "0064dc09-7be0-4756-aa84-fb4c6348f7f3",
         "194282ca-358d-451b-9c86-30d4c797c231",
         "2024-07-19 11:53:15.051",
         "50",
         "twitch"
        ],
        [
         "305",
         "0065658f-2675-4030-95f7-760e58ec34b5",
         "0f2a5949-6767-4755-99c5-0634173a405c",
         "2024-07-09 11:58:06.729",
         "50",
         "twitch"
        ],
        [
         "320",
         "006b5d5b-8129-4b48-9678-e059780d2bf6",
         "dfa4b373-d4d7-41ad-ab95-182bb052f008",
         "2024-04-23 18:35:58.467",
         "50",
         "twitch"
        ],
        [
         "338",
         "00709c25-748f-468e-a418-e585b4aaa52f",
         "aa3eaf74-6d9c-4859-b733-5a18a3b2f71b",
         "2024-08-19 12:16:49.337",
         "50",
         "twitch"
        ],
        [
         "347",
         "00722282-694b-489b-b240-62b9f69a253a",
         "1cd31d33-7b05-4e9b-9776-cec770be61fa",
         "2024-08-30 12:43:53.482",
         "100",
         "twitch"
        ],
        [
         "349",
         "00723912-c7b3-4001-93a9-284c84607b59",
         "16e77e87-d93f-4716-af91-9d5350989af2",
         "2025-01-02 11:36:15.837",
         "50",
         "twitch"
        ],
        [
         "358",
         "007504b9-53d8-4f7f-b55a-687cc64a8df1",
         "00f9cc87-c956-4b27-92e2-c96c5774083e",
         "2024-04-02 12:05:11.480",
         "50",
         "twitch"
        ],
        [
         "384",
         "007eefdd-f6df-451d-8187-76c758dce4ef",
         "e5572682-9d3e-4699-b9ed-acdb31d88b38",
         "2025-02-12 11:46:06.498",
         "50",
         "twitch"
        ],
        [
         "413",
         "00876bf1-cf1b-4171-b848-63d98f9ec2c9",
         "156857a6-b4a5-467b-9616-6641f8bda12b",
         "2024-10-10 11:54:44.043",
         "100",
         "twitch"
        ],
        [
         "415",
         "0088339d-32c0-43b1-b5fc-d882216e4d10",
         "194282ca-358d-451b-9c86-30d4c797c231",
         "2024-11-22 11:38:04.044",
         "50",
         "twitch"
        ],
        [
         "429",
         "008cf3c6-9f6e-42b3-acd1-36b0d9ada3e8",
         "8533a936-0f75-4831-bd05-3c27f1f0987b",
         "2024-08-06 12:11:48.615",
         "50",
         "twitch"
        ],
        [
         "432",
         "008e854b-bdd6-433c-9396-4f74da8fc9c1",
         "3f55b86f-dc21-4ac8-8e89-7c1535359eaf",
         "2025-01-08 12:56:39.172",
         "50",
         "twitch"
        ],
        [
         "438",
         "008f94b4-7fcd-4d12-81f7-031292fae7cf",
         "e7c79c1a-7693-4e63-a844-c755e0bc3bd3",
         "2024-05-08 12:01:15.247",
         "50",
         "twitch"
        ]
       ],
       "shape": {
        "columns": 5,
        "rows": 26955
       }
      },
      "text/html": [
       "<div>\n",
       "<style scoped>\n",
       "    .dataframe tbody tr th:only-of-type {\n",
       "        vertical-align: middle;\n",
       "    }\n",
       "\n",
       "    .dataframe tbody tr th {\n",
       "        vertical-align: top;\n",
       "    }\n",
       "\n",
       "    .dataframe thead th {\n",
       "        text-align: right;\n",
       "    }\n",
       "</style>\n",
       "<table border=\"1\" class=\"dataframe\">\n",
       "  <thead>\n",
       "    <tr style=\"text-align: right;\">\n",
       "      <th></th>\n",
       "      <th>idTransacao</th>\n",
       "      <th>idCliente</th>\n",
       "      <th>dtCriacao</th>\n",
       "      <th>qtdePontos</th>\n",
       "      <th>descSistemaOrigem</th>\n",
       "    </tr>\n",
       "  </thead>\n",
       "  <tbody>\n",
       "    <tr>\n",
       "      <th>7</th>\n",
       "      <td>00028d36-4575-4d02-b2a0-bdae1bc83231</td>\n",
       "      <td>9d023e72-c799-40c0-907a-96e023a97959</td>\n",
       "      <td>2024-11-11 12:36:33.625</td>\n",
       "      <td>50</td>\n",
       "      <td>twitch</td>\n",
       "    </tr>\n",
       "    <tr>\n",
       "      <th>17</th>\n",
       "      <td>00068e23-5b1e-432a-83df-8a5d11e495a6</td>\n",
       "      <td>3f55b86f-dc21-4ac8-8e89-7c1535359eaf</td>\n",
       "      <td>2025-01-09 12:29:28.501</td>\n",
       "      <td>50</td>\n",
       "      <td>twitch</td>\n",
       "    </tr>\n",
       "    <tr>\n",
       "      <th>21</th>\n",
       "      <td>00079f55-6df7-45c9-ac84-e4adb788563a</td>\n",
       "      <td>aaad5474-eb6b-4da6-9755-a1d2541c42bd</td>\n",
       "      <td>2024-08-12 14:27:40.420</td>\n",
       "      <td>50</td>\n",
       "      <td>twitch</td>\n",
       "    </tr>\n",
       "    <tr>\n",
       "      <th>31</th>\n",
       "      <td>000a5367-79b0-4245-982e-151b75223556</td>\n",
       "      <td>ab981417-daec-4b56-9cfa-6881e0ea0d26</td>\n",
       "      <td>2024-03-01 22:36:59.941</td>\n",
       "      <td>50</td>\n",
       "      <td>twitch</td>\n",
       "    </tr>\n",
       "    <tr>\n",
       "      <th>32</th>\n",
       "      <td>000aa5b6-ca63-46c5-b9e5-6074d840dae0</td>\n",
       "      <td>1cd31d33-7b05-4e9b-9776-cec770be61fa</td>\n",
       "      <td>2024-05-28 11:56:02.163</td>\n",
       "      <td>50</td>\n",
       "      <td>twitch</td>\n",
       "    </tr>\n",
       "    <tr>\n",
       "      <th>...</th>\n",
       "      <td>...</td>\n",
       "      <td>...</td>\n",
       "      <td>...</td>\n",
       "      <td>...</td>\n",
       "      <td>...</td>\n",
       "    </tr>\n",
       "    <tr>\n",
       "      <th>182805</th>\n",
       "      <td>fff543d3-fb83-4e5f-8f22-154a51abcd93</td>\n",
       "      <td>7107771a-0558-4aaa-a66e-570205a7f367</td>\n",
       "      <td>2024-08-08 12:08:20.484</td>\n",
       "      <td>50</td>\n",
       "      <td>twitch</td>\n",
       "    </tr>\n",
       "    <tr>\n",
       "      <th>182813</th>\n",
       "      <td>fff97b21-63f3-4289-afe8-e672b1306296</td>\n",
       "      <td>a4b70d73-1938-4f27-b1e5-973526894b10</td>\n",
       "      <td>2024-04-16 12:48:10.581</td>\n",
       "      <td>50</td>\n",
       "      <td>twitch</td>\n",
       "    </tr>\n",
       "    <tr>\n",
       "      <th>182821</th>\n",
       "      <td>fffb4d1f-5197-470f-936e-f7289bc5c878</td>\n",
       "      <td>9aba2685-7c0a-4d1f-8e22-0c47ca0af580</td>\n",
       "      <td>2024-02-29 12:35:20.673</td>\n",
       "      <td>50</td>\n",
       "      <td>twitch</td>\n",
       "    </tr>\n",
       "    <tr>\n",
       "      <th>182824</th>\n",
       "      <td>fffba02b-d70c-4bfc-aa51-a4b66b442d53</td>\n",
       "      <td>ca35412d-b340-4e7d-a391-020ec6bb6517</td>\n",
       "      <td>2024-07-04 12:53:21.075</td>\n",
       "      <td>50</td>\n",
       "      <td>twitch</td>\n",
       "    </tr>\n",
       "    <tr>\n",
       "      <th>182826</th>\n",
       "      <td>fffd47aa-3e8f-4cd1-a125-342721ad4a45</td>\n",
       "      <td>fcda54f6-b9e9-41cf-b255-0594d9947d1b</td>\n",
       "      <td>2024-08-12 12:46:44.489</td>\n",
       "      <td>100</td>\n",
       "      <td>twitch</td>\n",
       "    </tr>\n",
       "  </tbody>\n",
       "</table>\n",
       "<p>26955 rows × 5 columns</p>\n",
       "</div>"
      ],
      "text/plain": [
       "                                 idTransacao  \\\n",
       "7       00028d36-4575-4d02-b2a0-bdae1bc83231   \n",
       "17      00068e23-5b1e-432a-83df-8a5d11e495a6   \n",
       "21      00079f55-6df7-45c9-ac84-e4adb788563a   \n",
       "31      000a5367-79b0-4245-982e-151b75223556   \n",
       "32      000aa5b6-ca63-46c5-b9e5-6074d840dae0   \n",
       "...                                      ...   \n",
       "182805  fff543d3-fb83-4e5f-8f22-154a51abcd93   \n",
       "182813  fff97b21-63f3-4289-afe8-e672b1306296   \n",
       "182821  fffb4d1f-5197-470f-936e-f7289bc5c878   \n",
       "182824  fffba02b-d70c-4bfc-aa51-a4b66b442d53   \n",
       "182826  fffd47aa-3e8f-4cd1-a125-342721ad4a45   \n",
       "\n",
       "                                   idCliente                dtCriacao  \\\n",
       "7       9d023e72-c799-40c0-907a-96e023a97959  2024-11-11 12:36:33.625   \n",
       "17      3f55b86f-dc21-4ac8-8e89-7c1535359eaf  2025-01-09 12:29:28.501   \n",
       "21      aaad5474-eb6b-4da6-9755-a1d2541c42bd  2024-08-12 14:27:40.420   \n",
       "31      ab981417-daec-4b56-9cfa-6881e0ea0d26  2024-03-01 22:36:59.941   \n",
       "32      1cd31d33-7b05-4e9b-9776-cec770be61fa  2024-05-28 11:56:02.163   \n",
       "...                                      ...                      ...   \n",
       "182805  7107771a-0558-4aaa-a66e-570205a7f367  2024-08-08 12:08:20.484   \n",
       "182813  a4b70d73-1938-4f27-b1e5-973526894b10  2024-04-16 12:48:10.581   \n",
       "182821  9aba2685-7c0a-4d1f-8e22-0c47ca0af580  2024-02-29 12:35:20.673   \n",
       "182824  ca35412d-b340-4e7d-a391-020ec6bb6517  2024-07-04 12:53:21.075   \n",
       "182826  fcda54f6-b9e9-41cf-b255-0594d9947d1b  2024-08-12 12:46:44.489   \n",
       "\n",
       "        qtdePontos descSistemaOrigem  \n",
       "7               50            twitch  \n",
       "17              50            twitch  \n",
       "21              50            twitch  \n",
       "31              50            twitch  \n",
       "32              50            twitch  \n",
       "...            ...               ...  \n",
       "182805          50            twitch  \n",
       "182813          50            twitch  \n",
       "182821          50            twitch  \n",
       "182824          50            twitch  \n",
       "182826         100            twitch  \n",
       "\n",
       "[26955 rows x 5 columns]"
      ]
     },
     "execution_count": 38,
     "metadata": {},
     "output_type": "execute_result"
    }
   ],
   "source": [
    "# Operador OR\n",
    "# A tabela verdade para o operador OR é a seguinte:\n",
    "# True or True  = True\n",
    "# True or False = True\n",
    "# False or True  = True\n",
    "# False or False = False\n",
    "df[(df[\"qtdePontos\"] == 50) | (df[\"qtdePontos\"] == 100)]"
   ]
  },
  {
   "cell_type": "code",
   "execution_count": null,
   "id": "67aa4f1f",
   "metadata": {},
   "outputs": [],
   "source": []
  }
 ],
 "metadata": {
  "kernelspec": {
   "display_name": ".venv",
   "language": "python",
   "name": "python3"
  },
  "language_info": {
   "codemirror_mode": {
    "name": "ipython",
    "version": 3
   },
   "file_extension": ".py",
   "mimetype": "text/x-python",
   "name": "python",
   "nbconvert_exporter": "python",
   "pygments_lexer": "ipython3",
   "version": "3.11.11"
  }
 },
 "nbformat": 4,
 "nbformat_minor": 5
}
