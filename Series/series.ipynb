{
 "cells": [
  {
   "cell_type": "code",
   "execution_count": 2,
   "metadata": {},
   "outputs": [],
   "source": [
    "import pandas as pd\n",
    "import random"
   ]
  },
  {
   "cell_type": "code",
   "execution_count": 17,
   "metadata": {},
   "outputs": [
    {
     "name": "stdout",
     "output_type": "stream",
     "text": [
      "[40, 45, 37, 16, 43, 50, 37, 11, 11, 7, 28, 33, 45, 11, 42, 40, 49, 47, 36, 19]\n"
     ]
    },
    {
     "data": {
      "text/plain": [
       "count    20.000000\n",
       "mean     32.350000\n",
       "std      14.470569\n",
       "min       7.000000\n",
       "25%      18.250000\n",
       "50%      37.000000\n",
       "75%      43.500000\n",
       "max      50.000000\n",
       "dtype: float64"
      ]
     },
     "execution_count": 17,
     "metadata": {},
     "output_type": "execute_result"
    }
   ],
   "source": [
    "idades = [random.randint(1, 50) for _ in range(20)]\n",
    "print(idades)\n",
    "\n",
    "series_idades = pd.Series(idades)\n",
    "\n",
    "\n",
    "summary_idades = series_idades.describe()\n",
    "summary_idades"
   ]
  }
 ],
 "metadata": {
  "kernelspec": {
   "display_name": ".venv",
   "language": "python",
   "name": "python3"
  },
  "language_info": {
   "codemirror_mode": {
    "name": "ipython",
    "version": 3
   },
   "file_extension": ".py",
   "mimetype": "text/x-python",
   "name": "python",
   "nbconvert_exporter": "python",
   "pygments_lexer": "ipython3",
   "version": "3.11.11"
  }
 },
 "nbformat": 4,
 "nbformat_minor": 2
}
