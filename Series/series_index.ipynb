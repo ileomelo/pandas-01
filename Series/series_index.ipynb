{
 "cells": [
  {
   "cell_type": "code",
   "execution_count": 1,
   "metadata": {},
   "outputs": [],
   "source": [
    "import pandas as pd\n",
    "import random"
   ]
  },
  {
   "cell_type": "code",
   "execution_count": 21,
   "metadata": {},
   "outputs": [
    {
     "name": "stdout",
     "output_type": "stream",
     "text": [
      "4    18\n",
      "3    26\n",
      "2    27\n",
      "8    30\n",
      "1    31\n",
      "0    33\n",
      "7    33\n",
      "6    39\n",
      "9    42\n",
      "5    52\n",
      "dtype: int64\n",
      "iloc:  18\n",
      "loc:  31\n"
     ]
    }
   ],
   "source": [
    "idades = [33, 31, 27, 26, 18, 52, 39, 33, 30, 42]\n",
    "idades\n",
    "\n",
    "series_idades = pd.Series(idades)\n",
    "series_idades = series_idades.sort_values()\n",
    "print(series_idades)\n",
    "\n",
    "# iLoc: Navega pelas linhas de um DataFrame ou Series\n",
    "print(\"iloc: \",series_idades.iloc[0]) # resultado esperado: 18\n",
    "\n",
    "#Loc: Navega pelos índices de um DataFrame ou Series\n",
    "print(\"loc: \",series_idades.loc[1]) # resultado esperado: 31"
   ]
  }
 ],
 "metadata": {
  "kernelspec": {
   "display_name": ".venv",
   "language": "python",
   "name": "python3"
  },
  "language_info": {
   "codemirror_mode": {
    "name": "ipython",
    "version": 3
   },
   "file_extension": ".py",
   "mimetype": "text/x-python",
   "name": "python",
   "nbconvert_exporter": "python",
   "pygments_lexer": "ipython3",
   "version": "3.11.11"
  }
 },
 "nbformat": 4,
 "nbformat_minor": 2
}
