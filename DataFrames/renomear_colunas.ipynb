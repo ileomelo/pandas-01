{
 "cells": [
  {
   "cell_type": "code",
   "execution_count": null,
   "id": "1e560d46",
   "metadata": {},
   "outputs": [],
   "source": [
    "import pandas as pd"
   ]
  },
  {
   "cell_type": "code",
   "execution_count": null,
   "id": "94ba60fb",
   "metadata": {},
   "outputs": [],
   "source": [
    "df = pd.read_csv(\"../data/transacoes.csv\", sep=\",\")\n",
    "df"
   ]
  },
  {
   "cell_type": "code",
   "execution_count": null,
   "id": "4fdbcaac",
   "metadata": {},
   "outputs": [],
   "source": [
    "df.shape"
   ]
  },
  {
   "cell_type": "code",
   "execution_count": null,
   "id": "ebc20679",
   "metadata": {},
   "outputs": [],
   "source": [
    "df.info(memory_usage=\"deep\")"
   ]
  },
  {
   "cell_type": "code",
   "execution_count": null,
   "id": "88ff0379",
   "metadata": {},
   "outputs": [],
   "source": [
    "df.dtypes"
   ]
  },
  {
   "cell_type": "code",
   "execution_count": null,
   "id": "4e3808e1",
   "metadata": {},
   "outputs": [],
   "source": [
    "# Renomear colunas , no dicionario passar o nome atual da coluna e o novo\n",
    "# O inplace = True faz com que a mudança seja feita no proprio dataframe, não precisando atribuir a um novo df = df.rename(...)\n",
    "df.rename(columns={\"qtdePontos\": \"qtPontos\"}, inplace=True)"
   ]
  },
  {
   "cell_type": "code",
   "execution_count": null,
   "id": "ca795b8a",
   "metadata": {},
   "outputs": [],
   "source": [
    "df"
   ]
  },
  {
   "cell_type": "code",
   "execution_count": null,
   "id": "66e7b5b1",
   "metadata": {},
   "outputs": [],
   "source": [
    "# Retornando 2 colunas do dataframe\n",
    "df[\n",
    "    [\"idCliente\", \"qtPontos\"]\n",
    "]  # Isso aqui me retorna um dataframe, porque estou acessando os valores através de uma lista"
   ]
  },
  {
   "cell_type": "code",
   "execution_count": null,
   "id": "54079fb8",
   "metadata": {},
   "outputs": [],
   "source": [
    "df[\n",
    "    \"descSistemaOrigem\"\n",
    "]  # Isso aqui retorna uma série, não um dataframe, porque estou acessando um indíce único"
   ]
  }
 ],
 "metadata": {
  "kernelspec": {
   "display_name": ".venv",
   "language": "python",
   "name": "python3"
  },
  "language_info": {
   "codemirror_mode": {
    "name": "ipython",
    "version": 3
   },
   "file_extension": ".py",
   "mimetype": "text/x-python",
   "name": "python",
   "nbconvert_exporter": "python",
   "pygments_lexer": "ipython3",
   "version": "3.11.11"
  }
 },
 "nbformat": 4,
 "nbformat_minor": 5
}
