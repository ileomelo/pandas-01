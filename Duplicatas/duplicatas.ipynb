{
 "cells": [
  {
   "cell_type": "code",
   "execution_count": 1,
   "id": "4c818185",
   "metadata": {},
   "outputs": [],
   "source": [
    "import pandas as pd\n",
    "import random"
   ]
  },
  {
   "cell_type": "code",
   "execution_count": 2,
   "id": "3efe6412",
   "metadata": {},
   "outputs": [
    {
     "name": "stdout",
     "output_type": "stream",
     "text": [
      "               nome  idade   salario\n",
      "0    Daniela Mendes     30  14777.94\n",
      "1    Otavio Pereira     29   4650.90\n",
      "2     Daniela Costa     58   9023.92\n",
      "3       Lucas Silva     44  14770.78\n",
      "4  Daniela Oliveira     25  13857.69\n",
      "\n",
      "Número de linhas duplicadas: 10\n"
     ]
    }
   ],
   "source": [
    "# Listas para gerar nomes fictícios\n",
    "nomes = [\n",
    "    \"Ana\", \"Bruno\", \"Carlos\", \"Daniela\", \"Eduardo\", \"Fernanda\", \"Gabriel\", \"Helena\", \n",
    "    \"Igor\", \"Julia\", \"Karla\", \"Lucas\", \"Mariana\", \"Natasha\", \"Otavio\", \"Paula\", \n",
    "    \"Rafael\", \"Sofia\", \"Tiago\", \"Vanessa\"\n",
    "]\n",
    "sobrenomes = [\n",
    "    \"Silva\", \"Santos\", \"Oliveira\", \"Souza\", \"Lima\", \"Pereira\", \"Costa\", \"Almeida\", \n",
    "    \"Ribeiro\", \"Carvalho\", \"Mendes\", \"Ferreira\", \"Rodrigues\", \"Martins\", \"Gomes\"\n",
    "]\n",
    "\n",
    "# Gerando os dados base (90 linhas únicas)\n",
    "data = {\n",
    "    \"nome\": [f\"{random.choice(nomes)} {random.choice(sobrenomes)}\" for _ in range(90)],\n",
    "    \"idade\": [random.randint(18, 70) for _ in range(90)],\n",
    "    \"salario\": [round(random.uniform(2000, 15000), 2) for _ in range(90)]\n",
    "}\n",
    "df = pd.DataFrame(data)\n",
    "\n",
    "# Adicionando duplicatas (10 linhas repetidas)\n",
    "duplicatas = df.sample(n=10, replace=True)  # Escolhe 10 linhas aleatórias com reposição\n",
    "df_com_duplicatas = pd.concat([df, duplicatas], ignore_index=True)\n",
    "\n",
    "# Embaralhando o DataFrame para que as duplicatas não fiquem todas no final\n",
    "df_com_duplicatas = df_com_duplicatas.sample(frac=1).reset_index(drop=True)\n",
    "\n",
    "# Exibindo as primeiras 5 linhas para verificação\n",
    "print(df_com_duplicatas.head())\n",
    "\n",
    "# Verificando duplicatas\n",
    "print(\"\\nNúmero de linhas duplicadas:\", df_com_duplicatas.duplicated().sum())\n",
    "\n",
    "# Opcional: salvar em CSV se precisar\n",
    "# df_com_duplicatas.to_csv(\"dummy_data_with_duplicates.csv\", index=False)"
   ]
  },
  {
   "cell_type": "code",
   "execution_count": null,
   "id": "a3975148",
   "metadata": {},
   "outputs": [
    {
     "data": {
      "application/vnd.microsoft.datawrangler.viewer.v0+json": {
       "columns": [
        {
         "name": "index",
         "rawType": "int64",
         "type": "integer"
        },
        {
         "name": "nome",
         "rawType": "object",
         "type": "string"
        },
        {
         "name": "idade",
         "rawType": "int64",
         "type": "integer"
        },
        {
         "name": "salario",
         "rawType": "float64",
         "type": "float"
        }
       ],
       "conversionMethod": "pd.DataFrame",
       "ref": "5dcf17cc-c420-4f1b-b5aa-a728a2330af1",
       "rows": [
        [
         "66",
         "Vanessa Costa",
         "25",
         "14934.86"
        ],
        [
         "0",
         "Daniela Mendes",
         "30",
         "14777.94"
        ],
        [
         "8",
         "Lucas Silva",
         "44",
         "14770.78"
        ],
        [
         "54",
         "Julia Lima",
         "70",
         "14340.64"
        ],
        [
         "17",
         "Paula Ferreira",
         "52",
         "13859.54"
        ],
        [
         "4",
         "Daniela Oliveira",
         "25",
         "13857.69"
        ],
        [
         "95",
         "Gabriel Souza",
         "41",
         "13700.49"
        ],
        [
         "47",
         "Otavio Martins",
         "67",
         "13687.17"
        ],
        [
         "13",
         "Helena Gomes",
         "20",
         "13600.18"
        ],
        [
         "74",
         "Bruno Gomes",
         "49",
         "13588.34"
        ],
        [
         "26",
         "Fernanda Almeida",
         "66",
         "13314.13"
        ],
        [
         "76",
         "Helena Silva",
         "26",
         "13124.16"
        ],
        [
         "75",
         "Julia Lima",
         "31",
         "13100.95"
        ],
        [
         "52",
         "Helena Carvalho",
         "59",
         "13089.18"
        ],
        [
         "53",
         "Natasha Ribeiro",
         "32",
         "13073.8"
        ],
        [
         "62",
         "Eduardo Ribeiro",
         "58",
         "12899.93"
        ],
        [
         "56",
         "Fernanda Martins",
         "63",
         "12895.34"
        ],
        [
         "87",
         "Gabriel Almeida",
         "29",
         "12410.75"
        ],
        [
         "86",
         "Natasha Almeida",
         "30",
         "12226.01"
        ],
        [
         "16",
         "Sofia Lima",
         "59",
         "12215.11"
        ],
        [
         "89",
         "Karla Almeida",
         "19",
         "12205.51"
        ],
        [
         "7",
         "Karla Silva",
         "19",
         "12158.63"
        ],
        [
         "44",
         "Tiago Oliveira",
         "61",
         "12089.67"
        ],
        [
         "81",
         "Tiago Oliveira",
         "58",
         "12030.75"
        ],
        [
         "55",
         "Helena Carvalho",
         "33",
         "11716.95"
        ],
        [
         "35",
         "Gabriel Mendes",
         "30",
         "11555.67"
        ],
        [
         "68",
         "Julia Santos",
         "37",
         "11523.35"
        ],
        [
         "61",
         "Paula Ribeiro",
         "69",
         "11419.17"
        ],
        [
         "64",
         "Gabriel Silva",
         "64",
         "11397.33"
        ],
        [
         "96",
         "Mariana Silva",
         "19",
         "11231.74"
        ],
        [
         "50",
         "Carlos Gomes",
         "34",
         "11220.31"
        ],
        [
         "29",
         "Vanessa Souza",
         "38",
         "11072.43"
        ],
        [
         "51",
         "Sofia Mendes",
         "28",
         "11016.3"
        ],
        [
         "5",
         "Igor Oliveira",
         "21",
         "10371.16"
        ],
        [
         "59",
         "Tiago Gomes",
         "48",
         "10333.52"
        ],
        [
         "11",
         "Otavio Ferreira",
         "19",
         "9678.0"
        ],
        [
         "32",
         "Helena Almeida",
         "40",
         "9666.9"
        ],
        [
         "94",
         "Rafael Souza",
         "19",
         "9567.18"
        ],
        [
         "67",
         "Igor Mendes",
         "40",
         "9495.6"
        ],
        [
         "83",
         "Mariana Oliveira",
         "30",
         "9465.59"
        ],
        [
         "33",
         "Daniela Gomes",
         "56",
         "9398.21"
        ],
        [
         "40",
         "Igor Carvalho",
         "30",
         "9042.12"
        ],
        [
         "2",
         "Daniela Costa",
         "58",
         "9023.92"
        ],
        [
         "22",
         "Rafael Silva",
         "25",
         "8841.32"
        ],
        [
         "84",
         "Vanessa Gomes",
         "22",
         "8825.2"
        ],
        [
         "77",
         "Vanessa Mendes",
         "46",
         "8709.45"
        ],
        [
         "98",
         "Ana Rodrigues",
         "20",
         "8708.81"
        ],
        [
         "31",
         "Igor Mendes",
         "59",
         "8679.52"
        ],
        [
         "21",
         "Karla Pereira",
         "69",
         "8452.9"
        ],
        [
         "97",
         "Gabriel Souza",
         "22",
         "8430.41"
        ]
       ],
       "shape": {
        "columns": 3,
        "rows": 90
       }
      },
      "text/html": [
       "<div>\n",
       "<style scoped>\n",
       "    .dataframe tbody tr th:only-of-type {\n",
       "        vertical-align: middle;\n",
       "    }\n",
       "\n",
       "    .dataframe tbody tr th {\n",
       "        vertical-align: top;\n",
       "    }\n",
       "\n",
       "    .dataframe thead th {\n",
       "        text-align: right;\n",
       "    }\n",
       "</style>\n",
       "<table border=\"1\" class=\"dataframe\">\n",
       "  <thead>\n",
       "    <tr style=\"text-align: right;\">\n",
       "      <th></th>\n",
       "      <th>nome</th>\n",
       "      <th>idade</th>\n",
       "      <th>salario</th>\n",
       "    </tr>\n",
       "  </thead>\n",
       "  <tbody>\n",
       "    <tr>\n",
       "      <th>66</th>\n",
       "      <td>Vanessa Costa</td>\n",
       "      <td>25</td>\n",
       "      <td>14934.86</td>\n",
       "    </tr>\n",
       "    <tr>\n",
       "      <th>0</th>\n",
       "      <td>Daniela Mendes</td>\n",
       "      <td>30</td>\n",
       "      <td>14777.94</td>\n",
       "    </tr>\n",
       "    <tr>\n",
       "      <th>8</th>\n",
       "      <td>Lucas Silva</td>\n",
       "      <td>44</td>\n",
       "      <td>14770.78</td>\n",
       "    </tr>\n",
       "    <tr>\n",
       "      <th>54</th>\n",
       "      <td>Julia Lima</td>\n",
       "      <td>70</td>\n",
       "      <td>14340.64</td>\n",
       "    </tr>\n",
       "    <tr>\n",
       "      <th>17</th>\n",
       "      <td>Paula Ferreira</td>\n",
       "      <td>52</td>\n",
       "      <td>13859.54</td>\n",
       "    </tr>\n",
       "    <tr>\n",
       "      <th>...</th>\n",
       "      <td>...</td>\n",
       "      <td>...</td>\n",
       "      <td>...</td>\n",
       "    </tr>\n",
       "    <tr>\n",
       "      <th>48</th>\n",
       "      <td>Natasha Ferreira</td>\n",
       "      <td>36</td>\n",
       "      <td>2894.39</td>\n",
       "    </tr>\n",
       "    <tr>\n",
       "      <th>93</th>\n",
       "      <td>Rafael Lima</td>\n",
       "      <td>56</td>\n",
       "      <td>2806.26</td>\n",
       "    </tr>\n",
       "    <tr>\n",
       "      <th>43</th>\n",
       "      <td>Tiago Santos</td>\n",
       "      <td>25</td>\n",
       "      <td>2466.18</td>\n",
       "    </tr>\n",
       "    <tr>\n",
       "      <th>78</th>\n",
       "      <td>Daniela Almeida</td>\n",
       "      <td>38</td>\n",
       "      <td>2200.56</td>\n",
       "    </tr>\n",
       "    <tr>\n",
       "      <th>91</th>\n",
       "      <td>Lucas Gomes</td>\n",
       "      <td>51</td>\n",
       "      <td>2113.23</td>\n",
       "    </tr>\n",
       "  </tbody>\n",
       "</table>\n",
       "<p>90 rows × 3 columns</p>\n",
       "</div>"
      ],
      "text/plain": [
       "                nome  idade   salario\n",
       "66     Vanessa Costa     25  14934.86\n",
       "0     Daniela Mendes     30  14777.94\n",
       "8        Lucas Silva     44  14770.78\n",
       "54        Julia Lima     70  14340.64\n",
       "17    Paula Ferreira     52  13859.54\n",
       "..               ...    ...       ...\n",
       "48  Natasha Ferreira     36   2894.39\n",
       "93       Rafael Lima     56   2806.26\n",
       "43      Tiago Santos     25   2466.18\n",
       "78   Daniela Almeida     38   2200.56\n",
       "91       Lucas Gomes     51   2113.23\n",
       "\n",
       "[90 rows x 3 columns]"
      ]
     },
     "execution_count": 6,
     "metadata": {},
     "output_type": "execute_result"
    }
   ],
   "source": [
    "# Sendo assim, quando eu remover as duplicatas ele precisa voltar a ter 90 linhas\n",
    "df = df_com_duplicatas.sort_values(by='salario', ascending=False).drop_duplicates()\n",
    "df"
   ]
  },
  {
   "cell_type": "code",
   "execution_count": null,
   "id": "7e08530a",
   "metadata": {},
   "outputs": [],
   "source": []
  },
  {
   "cell_type": "code",
   "execution_count": null,
   "id": "7bc5949c",
   "metadata": {},
   "outputs": [],
   "source": []
  },
  {
   "cell_type": "code",
   "execution_count": null,
   "id": "49d01c2b",
   "metadata": {},
   "outputs": [],
   "source": []
  },
  {
   "cell_type": "code",
   "execution_count": null,
   "id": "a663ec7f",
   "metadata": {},
   "outputs": [],
   "source": []
  }
 ],
 "metadata": {
  "kernelspec": {
   "display_name": ".venv",
   "language": "python",
   "name": "python3"
  },
  "language_info": {
   "codemirror_mode": {
    "name": "ipython",
    "version": 3
   },
   "file_extension": ".py",
   "mimetype": "text/x-python",
   "name": "python",
   "nbconvert_exporter": "python",
   "pygments_lexer": "ipython3",
   "version": "3.11.11"
  }
 },
 "nbformat": 4,
 "nbformat_minor": 5
}
