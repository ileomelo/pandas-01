{
 "cells": [
  {
   "cell_type": "code",
   "execution_count": 1,
   "id": "cff5bf4d",
   "metadata": {},
   "outputs": [],
   "source": [
    "import pandas as pd"
   ]
  },
  {
   "cell_type": "code",
   "execution_count": 2,
   "id": "0ff2289e",
   "metadata": {},
   "outputs": [],
   "source": [
    "df = pd.read_csv('../data/clientes.csv')"
   ]
  },
  {
   "cell_type": "code",
   "execution_count": 4,
   "id": "a76c6238",
   "metadata": {},
   "outputs": [
    {
     "data": {
      "application/vnd.microsoft.datawrangler.viewer.v0+json": {
       "columns": [
        {
         "name": "index",
         "rawType": "int64",
         "type": "integer"
        },
        {
         "name": "idCliente",
         "rawType": "object",
         "type": "string"
        },
        {
         "name": "flEmail",
         "rawType": "int64",
         "type": "integer"
        },
        {
         "name": "flTwitch",
         "rawType": "int64",
         "type": "integer"
        },
        {
         "name": "flYouTube",
         "rawType": "int64",
         "type": "integer"
        },
        {
         "name": "flBlueSky",
         "rawType": "int64",
         "type": "integer"
        },
        {
         "name": "flInstagram",
         "rawType": "int64",
         "type": "integer"
        },
        {
         "name": "qtdePontos",
         "rawType": "int64",
         "type": "integer"
        },
        {
         "name": "dtCriacao",
         "rawType": "object",
         "type": "string"
        },
        {
         "name": "dtAtualizacao",
         "rawType": "object",
         "type": "string"
        }
       ],
       "conversionMethod": "pd.DataFrame",
       "ref": "d1728ac0-7474-4835-baf1-d7ccee7f852d",
       "rows": [
        [
         "792",
         "4fade907-6e0f-4581-a674-aad6622b1b10",
         "0",
         "1",
         "0",
         "0",
         "0",
         "30799",
         "0000-00-00 00:00:00.000",
         "2025-02-28 12:53:28.913"
        ]
       ],
       "shape": {
        "columns": 9,
        "rows": 1
       }
      },
      "text/html": [
       "<div>\n",
       "<style scoped>\n",
       "    .dataframe tbody tr th:only-of-type {\n",
       "        vertical-align: middle;\n",
       "    }\n",
       "\n",
       "    .dataframe tbody tr th {\n",
       "        vertical-align: top;\n",
       "    }\n",
       "\n",
       "    .dataframe thead th {\n",
       "        text-align: right;\n",
       "    }\n",
       "</style>\n",
       "<table border=\"1\" class=\"dataframe\">\n",
       "  <thead>\n",
       "    <tr style=\"text-align: right;\">\n",
       "      <th></th>\n",
       "      <th>idCliente</th>\n",
       "      <th>flEmail</th>\n",
       "      <th>flTwitch</th>\n",
       "      <th>flYouTube</th>\n",
       "      <th>flBlueSky</th>\n",
       "      <th>flInstagram</th>\n",
       "      <th>qtdePontos</th>\n",
       "      <th>dtCriacao</th>\n",
       "      <th>dtAtualizacao</th>\n",
       "    </tr>\n",
       "  </thead>\n",
       "  <tbody>\n",
       "    <tr>\n",
       "      <th>792</th>\n",
       "      <td>4fade907-6e0f-4581-a674-aad6622b1b10</td>\n",
       "      <td>0</td>\n",
       "      <td>1</td>\n",
       "      <td>0</td>\n",
       "      <td>0</td>\n",
       "      <td>0</td>\n",
       "      <td>30799</td>\n",
       "      <td>0000-00-00 00:00:00.000</td>\n",
       "      <td>2025-02-28 12:53:28.913</td>\n",
       "    </tr>\n",
       "  </tbody>\n",
       "</table>\n",
       "</div>"
      ],
      "text/plain": [
       "                                idCliente  flEmail  flTwitch  flYouTube  \\\n",
       "792  4fade907-6e0f-4581-a674-aad6622b1b10        0         1          0   \n",
       "\n",
       "     flBlueSky  flInstagram  qtdePontos                dtCriacao  \\\n",
       "792          0            0       30799  0000-00-00 00:00:00.000   \n",
       "\n",
       "               dtAtualizacao  \n",
       "792  2025-02-28 12:53:28.913  "
      ]
     },
     "execution_count": 4,
     "metadata": {},
     "output_type": "execute_result"
    }
   ],
   "source": [
    "max_pontos = df['qtdePontos'].max()\n",
    "df[df['qtdePontos'] == max_pontos]"
   ]
  },
  {
   "cell_type": "code",
   "execution_count": 6,
   "id": "aeeac5b7",
   "metadata": {},
   "outputs": [
    {
     "data": {
      "text/plain": [
       "792     30799\n",
       "1226    15296\n",
       "449     13232\n",
       "663     12670\n",
       "304     12209\n",
       "Name: qtdePontos, dtype: int64"
      ]
     },
     "execution_count": 6,
     "metadata": {},
     "output_type": "execute_result"
    }
   ],
   "source": [
    "top_5 = df['qtdePontos'].nlargest(5)\n",
    "top_5"
   ]
  },
  {
   "cell_type": "code",
   "execution_count": null,
   "id": "d5caaa51",
   "metadata": {},
   "outputs": [
    {
     "data": {
      "application/vnd.microsoft.datawrangler.viewer.v0+json": {
       "columns": [
        {
         "name": "index",
         "rawType": "int64",
         "type": "integer"
        },
        {
         "name": "nome",
         "rawType": "object",
         "type": "string"
        },
        {
         "name": "idade",
         "rawType": "int64",
         "type": "integer"
        },
        {
         "name": "salario",
         "rawType": "float64",
         "type": "float"
        }
       ],
       "conversionMethod": "pd.DataFrame",
       "ref": "ae9bda2e-5fbf-4b5e-9eb1-897ebbd1529f",
       "rows": [
        [
         "0",
         "Natasha Pereira",
         "45",
         "3754.96"
        ],
        [
         "1",
         "Tiago Pereira",
         "21",
         "6092.59"
        ],
        [
         "2",
         "Eduardo Pereira",
         "64",
         "10077.68"
        ],
        [
         "3",
         "Carlos Pereira",
         "61",
         "10343.95"
        ],
        [
         "4",
         "Fernanda Ribeiro",
         "63",
         "14358.48"
        ],
        [
         "5",
         "Sofia Pereira",
         "64",
         "2540.85"
        ],
        [
         "6",
         "Julia Mendes",
         "63",
         "8870.46"
        ],
        [
         "7",
         "Tiago Ferreira",
         "28",
         "5384.82"
        ],
        [
         "8",
         "Bruno Costa",
         "37",
         "4588.84"
        ],
        [
         "9",
         "Sofia Souza",
         "28",
         "12710.07"
        ],
        [
         "10",
         "Mariana Almeida",
         "39",
         "8241.27"
        ],
        [
         "11",
         "Gabriel Martins",
         "57",
         "7925.01"
        ],
        [
         "12",
         "Tiago Rodrigues",
         "57",
         "2616.0"
        ],
        [
         "13",
         "Carlos Gomes",
         "40",
         "3420.34"
        ],
        [
         "14",
         "Tiago Lima",
         "55",
         "8819.59"
        ],
        [
         "15",
         "Otavio Mendes",
         "24",
         "12495.42"
        ],
        [
         "16",
         "Bruno Ferreira",
         "67",
         "12175.72"
        ],
        [
         "17",
         "Lucas Gomes",
         "40",
         "8752.14"
        ],
        [
         "18",
         "Otavio Martins",
         "41",
         "10010.05"
        ],
        [
         "19",
         "Igor Pereira",
         "47",
         "9742.7"
        ],
        [
         "20",
         "Ana Gomes",
         "49",
         "3339.31"
        ],
        [
         "21",
         "Ana Gomes",
         "64",
         "7675.13"
        ],
        [
         "22",
         "Julia Pereira",
         "36",
         "8909.57"
        ],
        [
         "23",
         "Paula Silva",
         "36",
         "6115.03"
        ],
        [
         "24",
         "Julia Gomes",
         "51",
         "11933.58"
        ],
        [
         "25",
         "Ana Santos",
         "39",
         "10694.89"
        ],
        [
         "26",
         "Tiago Rodrigues",
         "68",
         "9411.46"
        ],
        [
         "27",
         "Carlos Souza",
         "53",
         "6690.83"
        ],
        [
         "28",
         "Tiago Oliveira",
         "21",
         "12377.46"
        ],
        [
         "29",
         "Tiago Oliveira",
         "28",
         "2563.97"
        ],
        [
         "30",
         "Natasha Costa",
         "42",
         "5844.08"
        ],
        [
         "31",
         "Eduardo Gomes",
         "51",
         "8648.18"
        ],
        [
         "32",
         "Karla Pereira",
         "41",
         "8270.78"
        ],
        [
         "33",
         "Igor Silva",
         "20",
         "6229.58"
        ],
        [
         "34",
         "Fernanda Gomes",
         "26",
         "10048.4"
        ],
        [
         "35",
         "Karla Almeida",
         "33",
         "3493.99"
        ],
        [
         "36",
         "Gabriel Costa",
         "27",
         "12725.66"
        ],
        [
         "37",
         "Tiago Gomes",
         "20",
         "8977.39"
        ],
        [
         "38",
         "Mariana Souza",
         "62",
         "13042.14"
        ],
        [
         "39",
         "Tiago Silva",
         "25",
         "3956.54"
        ],
        [
         "40",
         "Otavio Carvalho",
         "69",
         "12411.76"
        ],
        [
         "41",
         "Paula Lima",
         "36",
         "6748.33"
        ],
        [
         "42",
         "Helena Martins",
         "33",
         "8309.47"
        ],
        [
         "43",
         "Otavio Oliveira",
         "35",
         "11508.75"
        ],
        [
         "44",
         "Gabriel Ferreira",
         "65",
         "4773.47"
        ],
        [
         "45",
         "Tiago Rodrigues",
         "24",
         "9680.67"
        ],
        [
         "46",
         "Daniela Lima",
         "64",
         "2853.71"
        ],
        [
         "47",
         "Carlos Almeida",
         "20",
         "7091.01"
        ],
        [
         "48",
         "Bruno Ferreira",
         "52",
         "3988.84"
        ],
        [
         "49",
         "Bruno Costa",
         "51",
         "4374.3"
        ]
       ],
       "shape": {
        "columns": 3,
        "rows": 100
       }
      },
      "text/html": [
       "<div>\n",
       "<style scoped>\n",
       "    .dataframe tbody tr th:only-of-type {\n",
       "        vertical-align: middle;\n",
       "    }\n",
       "\n",
       "    .dataframe tbody tr th {\n",
       "        vertical-align: top;\n",
       "    }\n",
       "\n",
       "    .dataframe thead th {\n",
       "        text-align: right;\n",
       "    }\n",
       "</style>\n",
       "<table border=\"1\" class=\"dataframe\">\n",
       "  <thead>\n",
       "    <tr style=\"text-align: right;\">\n",
       "      <th></th>\n",
       "      <th>nome</th>\n",
       "      <th>idade</th>\n",
       "      <th>salario</th>\n",
       "    </tr>\n",
       "  </thead>\n",
       "  <tbody>\n",
       "    <tr>\n",
       "      <th>0</th>\n",
       "      <td>Natasha Pereira</td>\n",
       "      <td>45</td>\n",
       "      <td>3754.96</td>\n",
       "    </tr>\n",
       "    <tr>\n",
       "      <th>1</th>\n",
       "      <td>Tiago Pereira</td>\n",
       "      <td>21</td>\n",
       "      <td>6092.59</td>\n",
       "    </tr>\n",
       "    <tr>\n",
       "      <th>2</th>\n",
       "      <td>Eduardo Pereira</td>\n",
       "      <td>64</td>\n",
       "      <td>10077.68</td>\n",
       "    </tr>\n",
       "    <tr>\n",
       "      <th>3</th>\n",
       "      <td>Carlos Pereira</td>\n",
       "      <td>61</td>\n",
       "      <td>10343.95</td>\n",
       "    </tr>\n",
       "    <tr>\n",
       "      <th>4</th>\n",
       "      <td>Fernanda Ribeiro</td>\n",
       "      <td>63</td>\n",
       "      <td>14358.48</td>\n",
       "    </tr>\n",
       "    <tr>\n",
       "      <th>...</th>\n",
       "      <td>...</td>\n",
       "      <td>...</td>\n",
       "      <td>...</td>\n",
       "    </tr>\n",
       "    <tr>\n",
       "      <th>95</th>\n",
       "      <td>Fernanda Almeida</td>\n",
       "      <td>24</td>\n",
       "      <td>11125.39</td>\n",
       "    </tr>\n",
       "    <tr>\n",
       "      <th>96</th>\n",
       "      <td>Eduardo Ribeiro</td>\n",
       "      <td>29</td>\n",
       "      <td>12124.70</td>\n",
       "    </tr>\n",
       "    <tr>\n",
       "      <th>97</th>\n",
       "      <td>Karla Costa</td>\n",
       "      <td>25</td>\n",
       "      <td>14645.22</td>\n",
       "    </tr>\n",
       "    <tr>\n",
       "      <th>98</th>\n",
       "      <td>Julia Mendes</td>\n",
       "      <td>68</td>\n",
       "      <td>6743.40</td>\n",
       "    </tr>\n",
       "    <tr>\n",
       "      <th>99</th>\n",
       "      <td>Julia Costa</td>\n",
       "      <td>37</td>\n",
       "      <td>13498.94</td>\n",
       "    </tr>\n",
       "  </tbody>\n",
       "</table>\n",
       "<p>100 rows × 3 columns</p>\n",
       "</div>"
      ],
      "text/plain": [
       "                nome  idade   salario\n",
       "0    Natasha Pereira     45   3754.96\n",
       "1      Tiago Pereira     21   6092.59\n",
       "2    Eduardo Pereira     64  10077.68\n",
       "3     Carlos Pereira     61  10343.95\n",
       "4   Fernanda Ribeiro     63  14358.48\n",
       "..               ...    ...       ...\n",
       "95  Fernanda Almeida     24  11125.39\n",
       "96   Eduardo Ribeiro     29  12124.70\n",
       "97       Karla Costa     25  14645.22\n",
       "98      Julia Mendes     68   6743.40\n",
       "99       Julia Costa     37  13498.94\n",
       "\n",
       "[100 rows x 3 columns]"
      ]
     },
     "execution_count": 8,
     "metadata": {},
     "output_type": "execute_result"
    }
   ],
   "source": [
    "import random\n",
    "\n",
    "# Criando um DF dummy\n",
    "nomes = [\n",
    "    \"Ana\", \"Bruno\", \"Carlos\", \"Daniela\", \"Eduardo\", \"Fernanda\", \"Gabriel\", \"Helena\", \n",
    "    \"Igor\", \"Julia\", \"Karla\", \"Lucas\", \"Mariana\", \"Natasha\", \"Otavio\", \"Paula\", \n",
    "    \"Rafael\", \"Sofia\", \"Tiago\", \"Vanessa\"\n",
    "]\n",
    "sobrenomes = [\n",
    "    \"Silva\", \"Santos\", \"Oliveira\", \"Souza\", \"Lima\", \"Pereira\", \"Costa\", \"Almeida\", \n",
    "    \"Ribeiro\", \"Carvalho\", \"Mendes\", \"Ferreira\", \"Rodrigues\", \"Martins\", \"Gomes\"\n",
    "]\n",
    "\n",
    "# Gerando os dados\n",
    "data = {\n",
    "    \"nome\": [f\"{random.choice(nomes)} {random.choice(sobrenomes)}\" for _ in range(100)],\n",
    "    \"idade\": [random.randint(18, 70) for _ in range(100)],\n",
    "    \"salario\": [round(random.uniform(2000, 15000), 2) for _ in range(100)]\n",
    "}\n",
    "\n",
    "# Criando o DataFrame\n",
    "df_dummy = pd.DataFrame(data)\n",
    "\n",
    "# Exibindo o DataFrame, (100 x 3)\n",
    "df_dummy"
   ]
  },
  {
   "cell_type": "code",
   "execution_count": 9,
   "id": "194f194b",
   "metadata": {},
   "outputs": [
    {
     "data": {
      "application/vnd.microsoft.datawrangler.viewer.v0+json": {
       "columns": [
        {
         "name": "index",
         "rawType": "int64",
         "type": "integer"
        },
        {
         "name": "nome",
         "rawType": "object",
         "type": "string"
        },
        {
         "name": "idade",
         "rawType": "int64",
         "type": "integer"
        },
        {
         "name": "salario",
         "rawType": "float64",
         "type": "float"
        }
       ],
       "conversionMethod": "pd.DataFrame",
       "ref": "5d358cbb-b3a7-4ba4-8705-80bde2e5ae4b",
       "rows": [
        [
         "65",
         "Helena Mendes",
         "68",
         "14741.02"
        ],
        [
         "97",
         "Karla Costa",
         "25",
         "14645.22"
        ],
        [
         "4",
         "Fernanda Ribeiro",
         "63",
         "14358.48"
        ],
        [
         "77",
         "Igor Carvalho",
         "38",
         "14222.18"
        ],
        [
         "66",
         "Gabriel Souza",
         "52",
         "13987.06"
        ],
        [
         "71",
         "Daniela Santos",
         "44",
         "13888.17"
        ],
        [
         "99",
         "Julia Costa",
         "37",
         "13498.94"
        ],
        [
         "38",
         "Mariana Souza",
         "62",
         "13042.14"
        ],
        [
         "62",
         "Helena Santos",
         "28",
         "12951.23"
        ],
        [
         "60",
         "Sofia Costa",
         "36",
         "12872.67"
        ],
        [
         "36",
         "Gabriel Costa",
         "27",
         "12725.66"
        ],
        [
         "9",
         "Sofia Souza",
         "28",
         "12710.07"
        ],
        [
         "57",
         "Daniela Gomes",
         "22",
         "12689.07"
        ],
        [
         "15",
         "Otavio Mendes",
         "24",
         "12495.42"
        ],
        [
         "79",
         "Karla Ferreira",
         "51",
         "12435.21"
        ],
        [
         "40",
         "Otavio Carvalho",
         "69",
         "12411.76"
        ],
        [
         "28",
         "Tiago Oliveira",
         "21",
         "12377.46"
        ],
        [
         "16",
         "Bruno Ferreira",
         "67",
         "12175.72"
        ],
        [
         "96",
         "Eduardo Ribeiro",
         "29",
         "12124.7"
        ],
        [
         "51",
         "Tiago Oliveira",
         "51",
         "11967.48"
        ],
        [
         "24",
         "Julia Gomes",
         "51",
         "11933.58"
        ],
        [
         "70",
         "Paula Souza",
         "42",
         "11861.74"
        ],
        [
         "80",
         "Helena Martins",
         "32",
         "11684.49"
        ],
        [
         "43",
         "Otavio Oliveira",
         "35",
         "11508.75"
        ],
        [
         "84",
         "Tiago Costa",
         "51",
         "11459.36"
        ],
        [
         "58",
         "Mariana Souza",
         "41",
         "11152.77"
        ],
        [
         "95",
         "Fernanda Almeida",
         "24",
         "11125.39"
        ],
        [
         "89",
         "Julia Almeida",
         "52",
         "10854.92"
        ],
        [
         "53",
         "Otavio Santos",
         "47",
         "10770.9"
        ],
        [
         "25",
         "Ana Santos",
         "39",
         "10694.89"
        ],
        [
         "3",
         "Carlos Pereira",
         "61",
         "10343.95"
        ],
        [
         "2",
         "Eduardo Pereira",
         "64",
         "10077.68"
        ],
        [
         "34",
         "Fernanda Gomes",
         "26",
         "10048.4"
        ],
        [
         "18",
         "Otavio Martins",
         "41",
         "10010.05"
        ],
        [
         "63",
         "Tiago Lima",
         "32",
         "9973.3"
        ],
        [
         "19",
         "Igor Pereira",
         "47",
         "9742.7"
        ],
        [
         "45",
         "Tiago Rodrigues",
         "24",
         "9680.67"
        ],
        [
         "87",
         "Bruno Carvalho",
         "54",
         "9652.27"
        ],
        [
         "26",
         "Tiago Rodrigues",
         "68",
         "9411.46"
        ],
        [
         "59",
         "Rafael Silva",
         "66",
         "9383.35"
        ],
        [
         "37",
         "Tiago Gomes",
         "20",
         "8977.39"
        ],
        [
         "22",
         "Julia Pereira",
         "36",
         "8909.57"
        ],
        [
         "6",
         "Julia Mendes",
         "63",
         "8870.46"
        ],
        [
         "14",
         "Tiago Lima",
         "55",
         "8819.59"
        ],
        [
         "17",
         "Lucas Gomes",
         "40",
         "8752.14"
        ],
        [
         "56",
         "Karla Ribeiro",
         "33",
         "8677.48"
        ],
        [
         "31",
         "Eduardo Gomes",
         "51",
         "8648.18"
        ],
        [
         "86",
         "Gabriel Souza",
         "33",
         "8549.77"
        ],
        [
         "91",
         "Gabriel Silva",
         "35",
         "8364.17"
        ],
        [
         "42",
         "Helena Martins",
         "33",
         "8309.47"
        ]
       ],
       "shape": {
        "columns": 3,
        "rows": 100
       }
      },
      "text/html": [
       "<div>\n",
       "<style scoped>\n",
       "    .dataframe tbody tr th:only-of-type {\n",
       "        vertical-align: middle;\n",
       "    }\n",
       "\n",
       "    .dataframe tbody tr th {\n",
       "        vertical-align: top;\n",
       "    }\n",
       "\n",
       "    .dataframe thead th {\n",
       "        text-align: right;\n",
       "    }\n",
       "</style>\n",
       "<table border=\"1\" class=\"dataframe\">\n",
       "  <thead>\n",
       "    <tr style=\"text-align: right;\">\n",
       "      <th></th>\n",
       "      <th>nome</th>\n",
       "      <th>idade</th>\n",
       "      <th>salario</th>\n",
       "    </tr>\n",
       "  </thead>\n",
       "  <tbody>\n",
       "    <tr>\n",
       "      <th>65</th>\n",
       "      <td>Helena Mendes</td>\n",
       "      <td>68</td>\n",
       "      <td>14741.02</td>\n",
       "    </tr>\n",
       "    <tr>\n",
       "      <th>97</th>\n",
       "      <td>Karla Costa</td>\n",
       "      <td>25</td>\n",
       "      <td>14645.22</td>\n",
       "    </tr>\n",
       "    <tr>\n",
       "      <th>4</th>\n",
       "      <td>Fernanda Ribeiro</td>\n",
       "      <td>63</td>\n",
       "      <td>14358.48</td>\n",
       "    </tr>\n",
       "    <tr>\n",
       "      <th>77</th>\n",
       "      <td>Igor Carvalho</td>\n",
       "      <td>38</td>\n",
       "      <td>14222.18</td>\n",
       "    </tr>\n",
       "    <tr>\n",
       "      <th>66</th>\n",
       "      <td>Gabriel Souza</td>\n",
       "      <td>52</td>\n",
       "      <td>13987.06</td>\n",
       "    </tr>\n",
       "    <tr>\n",
       "      <th>...</th>\n",
       "      <td>...</td>\n",
       "      <td>...</td>\n",
       "      <td>...</td>\n",
       "    </tr>\n",
       "    <tr>\n",
       "      <th>29</th>\n",
       "      <td>Tiago Oliveira</td>\n",
       "      <td>28</td>\n",
       "      <td>2563.97</td>\n",
       "    </tr>\n",
       "    <tr>\n",
       "      <th>5</th>\n",
       "      <td>Sofia Pereira</td>\n",
       "      <td>64</td>\n",
       "      <td>2540.85</td>\n",
       "    </tr>\n",
       "    <tr>\n",
       "      <th>61</th>\n",
       "      <td>Igor Carvalho</td>\n",
       "      <td>40</td>\n",
       "      <td>2441.08</td>\n",
       "    </tr>\n",
       "    <tr>\n",
       "      <th>92</th>\n",
       "      <td>Carlos Lima</td>\n",
       "      <td>33</td>\n",
       "      <td>2437.85</td>\n",
       "    </tr>\n",
       "    <tr>\n",
       "      <th>93</th>\n",
       "      <td>Helena Gomes</td>\n",
       "      <td>43</td>\n",
       "      <td>2377.67</td>\n",
       "    </tr>\n",
       "  </tbody>\n",
       "</table>\n",
       "<p>100 rows × 3 columns</p>\n",
       "</div>"
      ],
      "text/plain": [
       "                nome  idade   salario\n",
       "65     Helena Mendes     68  14741.02\n",
       "97       Karla Costa     25  14645.22\n",
       "4   Fernanda Ribeiro     63  14358.48\n",
       "77     Igor Carvalho     38  14222.18\n",
       "66     Gabriel Souza     52  13987.06\n",
       "..               ...    ...       ...\n",
       "29    Tiago Oliveira     28   2563.97\n",
       "5      Sofia Pereira     64   2540.85\n",
       "61     Igor Carvalho     40   2441.08\n",
       "92       Carlos Lima     33   2437.85\n",
       "93      Helena Gomes     43   2377.67\n",
       "\n",
       "[100 rows x 3 columns]"
      ]
     },
     "execution_count": 9,
     "metadata": {},
     "output_type": "execute_result"
    }
   ],
   "source": [
    "df_dummy.sort_values(by=['salario', 'idade'], ascending=[False, True])"
   ]
  }
 ],
 "metadata": {
  "kernelspec": {
   "display_name": ".venv",
   "language": "python",
   "name": "python3"
  },
  "language_info": {
   "codemirror_mode": {
    "name": "ipython",
    "version": 3
   },
   "file_extension": ".py",
   "mimetype": "text/x-python",
   "name": "python",
   "nbconvert_exporter": "python",
   "pygments_lexer": "ipython3",
   "version": "3.11.11"
  }
 },
 "nbformat": 4,
 "nbformat_minor": 5
}
