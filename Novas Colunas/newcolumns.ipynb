{
 "cells": [
  {
   "cell_type": "code",
   "execution_count": 9,
   "id": "65cfdbcf",
   "metadata": {},
   "outputs": [],
   "source": [
    "import pandas as pd\n",
    "import numpy as np"
   ]
  },
  {
   "cell_type": "code",
   "execution_count": 10,
   "id": "3b7a7405",
   "metadata": {},
   "outputs": [
    {
     "data": {
      "application/vnd.microsoft.datawrangler.viewer.v0+json": {
       "columns": [
        {
         "name": "index",
         "rawType": "int64",
         "type": "integer"
        },
        {
         "name": "idCliente",
         "rawType": "object",
         "type": "string"
        },
        {
         "name": "flEmail",
         "rawType": "int64",
         "type": "integer"
        },
        {
         "name": "flTwitch",
         "rawType": "int64",
         "type": "integer"
        },
        {
         "name": "flYouTube",
         "rawType": "int64",
         "type": "integer"
        },
        {
         "name": "flBlueSky",
         "rawType": "int64",
         "type": "integer"
        },
        {
         "name": "flInstagram",
         "rawType": "int64",
         "type": "integer"
        },
        {
         "name": "qtdePontos",
         "rawType": "int64",
         "type": "integer"
        },
        {
         "name": "dtCriacao",
         "rawType": "object",
         "type": "unknown"
        },
        {
         "name": "dtAtualizacao",
         "rawType": "object",
         "type": "unknown"
        }
       ],
       "conversionMethod": "pd.DataFrame",
       "ref": "93502249-0e56-4d04-8fd0-e06125e80488",
       "rows": [
        [
         "0",
         "000ff655-fa9f-4baa-a108-47f581ec52a1",
         "0",
         "0",
         "0",
         "0",
         "0",
         "686",
         null,
         null
        ],
        [
         "1",
         "001749bd-37b5-4b1e-8111-f9fbba90f530",
         "0",
         "0",
         "0",
         "0",
         "0",
         "50",
         null,
         null
        ],
        [
         "2",
         "0019bb9e-26d4-4ebf-8727-fc911ea28a92",
         "0",
         "0",
         "0",
         "0",
         "0",
         "2",
         null,
         null
        ],
        [
         "3",
         "0033b737-8235-4c0f-9801-dc4ca185af00",
         "0",
         "1",
         "0",
         "0",
         "0",
         "1090",
         "0000-00-00 00:00:00.000",
         "2025-02-19 12:48:24.632"
        ],
        [
         "4",
         "00684343-40b5-4ce7-b2e8-71a5340973bf",
         "0",
         "0",
         "0",
         "0",
         "0",
         "0",
         null,
         null
        ]
       ],
       "shape": {
        "columns": 9,
        "rows": 5
       }
      },
      "text/html": [
       "<div>\n",
       "<style scoped>\n",
       "    .dataframe tbody tr th:only-of-type {\n",
       "        vertical-align: middle;\n",
       "    }\n",
       "\n",
       "    .dataframe tbody tr th {\n",
       "        vertical-align: top;\n",
       "    }\n",
       "\n",
       "    .dataframe thead th {\n",
       "        text-align: right;\n",
       "    }\n",
       "</style>\n",
       "<table border=\"1\" class=\"dataframe\">\n",
       "  <thead>\n",
       "    <tr style=\"text-align: right;\">\n",
       "      <th></th>\n",
       "      <th>idCliente</th>\n",
       "      <th>flEmail</th>\n",
       "      <th>flTwitch</th>\n",
       "      <th>flYouTube</th>\n",
       "      <th>flBlueSky</th>\n",
       "      <th>flInstagram</th>\n",
       "      <th>qtdePontos</th>\n",
       "      <th>dtCriacao</th>\n",
       "      <th>dtAtualizacao</th>\n",
       "    </tr>\n",
       "  </thead>\n",
       "  <tbody>\n",
       "    <tr>\n",
       "      <th>0</th>\n",
       "      <td>000ff655-fa9f-4baa-a108-47f581ec52a1</td>\n",
       "      <td>0</td>\n",
       "      <td>0</td>\n",
       "      <td>0</td>\n",
       "      <td>0</td>\n",
       "      <td>0</td>\n",
       "      <td>686</td>\n",
       "      <td>NaN</td>\n",
       "      <td>NaN</td>\n",
       "    </tr>\n",
       "    <tr>\n",
       "      <th>1</th>\n",
       "      <td>001749bd-37b5-4b1e-8111-f9fbba90f530</td>\n",
       "      <td>0</td>\n",
       "      <td>0</td>\n",
       "      <td>0</td>\n",
       "      <td>0</td>\n",
       "      <td>0</td>\n",
       "      <td>50</td>\n",
       "      <td>NaN</td>\n",
       "      <td>NaN</td>\n",
       "    </tr>\n",
       "    <tr>\n",
       "      <th>2</th>\n",
       "      <td>0019bb9e-26d4-4ebf-8727-fc911ea28a92</td>\n",
       "      <td>0</td>\n",
       "      <td>0</td>\n",
       "      <td>0</td>\n",
       "      <td>0</td>\n",
       "      <td>0</td>\n",
       "      <td>2</td>\n",
       "      <td>NaN</td>\n",
       "      <td>NaN</td>\n",
       "    </tr>\n",
       "    <tr>\n",
       "      <th>3</th>\n",
       "      <td>0033b737-8235-4c0f-9801-dc4ca185af00</td>\n",
       "      <td>0</td>\n",
       "      <td>1</td>\n",
       "      <td>0</td>\n",
       "      <td>0</td>\n",
       "      <td>0</td>\n",
       "      <td>1090</td>\n",
       "      <td>0000-00-00 00:00:00.000</td>\n",
       "      <td>2025-02-19 12:48:24.632</td>\n",
       "    </tr>\n",
       "    <tr>\n",
       "      <th>4</th>\n",
       "      <td>00684343-40b5-4ce7-b2e8-71a5340973bf</td>\n",
       "      <td>0</td>\n",
       "      <td>0</td>\n",
       "      <td>0</td>\n",
       "      <td>0</td>\n",
       "      <td>0</td>\n",
       "      <td>0</td>\n",
       "      <td>NaN</td>\n",
       "      <td>NaN</td>\n",
       "    </tr>\n",
       "  </tbody>\n",
       "</table>\n",
       "</div>"
      ],
      "text/plain": [
       "                              idCliente  flEmail  flTwitch  flYouTube  \\\n",
       "0  000ff655-fa9f-4baa-a108-47f581ec52a1        0         0          0   \n",
       "1  001749bd-37b5-4b1e-8111-f9fbba90f530        0         0          0   \n",
       "2  0019bb9e-26d4-4ebf-8727-fc911ea28a92        0         0          0   \n",
       "3  0033b737-8235-4c0f-9801-dc4ca185af00        0         1          0   \n",
       "4  00684343-40b5-4ce7-b2e8-71a5340973bf        0         0          0   \n",
       "\n",
       "   flBlueSky  flInstagram  qtdePontos                dtCriacao  \\\n",
       "0          0            0         686                      NaN   \n",
       "1          0            0          50                      NaN   \n",
       "2          0            0           2                      NaN   \n",
       "3          0            0        1090  0000-00-00 00:00:00.000   \n",
       "4          0            0           0                      NaN   \n",
       "\n",
       "             dtAtualizacao  \n",
       "0                      NaN  \n",
       "1                      NaN  \n",
       "2                      NaN  \n",
       "3  2025-02-19 12:48:24.632  \n",
       "4                      NaN  "
      ]
     },
     "execution_count": 10,
     "metadata": {},
     "output_type": "execute_result"
    }
   ],
   "source": [
    "df = pd.read_csv(\"../data/clientes.csv\")\n",
    "df.head()"
   ]
  },
  {
   "cell_type": "code",
   "execution_count": 11,
   "id": "7fec36b0",
   "metadata": {},
   "outputs": [
    {
     "data": {
      "application/vnd.microsoft.datawrangler.viewer.v0+json": {
       "columns": [
        {
         "name": "index",
         "rawType": "int64",
         "type": "integer"
        },
        {
         "name": "idCliente",
         "rawType": "object",
         "type": "string"
        },
        {
         "name": "flEmail",
         "rawType": "int64",
         "type": "integer"
        },
        {
         "name": "flTwitch",
         "rawType": "int64",
         "type": "integer"
        },
        {
         "name": "flYouTube",
         "rawType": "int64",
         "type": "integer"
        },
        {
         "name": "flBlueSky",
         "rawType": "int64",
         "type": "integer"
        },
        {
         "name": "flInstagram",
         "rawType": "int64",
         "type": "integer"
        },
        {
         "name": "qtdePontos",
         "rawType": "int64",
         "type": "integer"
        },
        {
         "name": "dtCriacao",
         "rawType": "object",
         "type": "unknown"
        },
        {
         "name": "dtAtualizacao",
         "rawType": "object",
         "type": "unknown"
        },
        {
         "name": "pontosalterados",
         "rawType": "int64",
         "type": "integer"
        }
       ],
       "conversionMethod": "pd.DataFrame",
       "ref": "30653dba-68a3-46ba-85e2-baa6e4002830",
       "rows": [
        [
         "764",
         "4c44389e-78db-4fbf-b21d-9d8a714388d2",
         "0",
         "1",
         "0",
         "0",
         "0",
         "50",
         "2024-11-27 12:58:50.603",
         "2024-11-27 12:59:02.454",
         "150"
        ],
        [
         "2181",
         "e28574cd-98ba-4edb-bc03-cabd0d36ec38",
         "0",
         "0",
         "0",
         "0",
         "0",
         "227",
         null,
         null,
         "327"
        ],
        [
         "897",
         "5be2eabe-e862-475a-9f14-d59107c6b68b",
         "0",
         "1",
         "0",
         "0",
         "0",
         "0",
         "2025-01-27 11:45:04.081",
         "2025-01-27 11:45:04.081",
         "100"
        ],
        [
         "399",
         "256ec721-e61d-433d-b484-26349ba2e080",
         "0",
         "0",
         "0",
         "0",
         "0",
         "523",
         null,
         null,
         "623"
        ],
        [
         "1176",
         "7bdca3eb-5d84-42a3-acf4-ec1586566d21",
         "0",
         "1",
         "0",
         "0",
         "0",
         "67",
         "2025-01-06 12:13:28.519",
         "2025-02-28 13:44:00.590",
         "167"
        ]
       ],
       "shape": {
        "columns": 10,
        "rows": 5
       }
      },
      "text/html": [
       "<div>\n",
       "<style scoped>\n",
       "    .dataframe tbody tr th:only-of-type {\n",
       "        vertical-align: middle;\n",
       "    }\n",
       "\n",
       "    .dataframe tbody tr th {\n",
       "        vertical-align: top;\n",
       "    }\n",
       "\n",
       "    .dataframe thead th {\n",
       "        text-align: right;\n",
       "    }\n",
       "</style>\n",
       "<table border=\"1\" class=\"dataframe\">\n",
       "  <thead>\n",
       "    <tr style=\"text-align: right;\">\n",
       "      <th></th>\n",
       "      <th>idCliente</th>\n",
       "      <th>flEmail</th>\n",
       "      <th>flTwitch</th>\n",
       "      <th>flYouTube</th>\n",
       "      <th>flBlueSky</th>\n",
       "      <th>flInstagram</th>\n",
       "      <th>qtdePontos</th>\n",
       "      <th>dtCriacao</th>\n",
       "      <th>dtAtualizacao</th>\n",
       "      <th>pontosalterados</th>\n",
       "    </tr>\n",
       "  </thead>\n",
       "  <tbody>\n",
       "    <tr>\n",
       "      <th>764</th>\n",
       "      <td>4c44389e-78db-4fbf-b21d-9d8a714388d2</td>\n",
       "      <td>0</td>\n",
       "      <td>1</td>\n",
       "      <td>0</td>\n",
       "      <td>0</td>\n",
       "      <td>0</td>\n",
       "      <td>50</td>\n",
       "      <td>2024-11-27 12:58:50.603</td>\n",
       "      <td>2024-11-27 12:59:02.454</td>\n",
       "      <td>150</td>\n",
       "    </tr>\n",
       "    <tr>\n",
       "      <th>2181</th>\n",
       "      <td>e28574cd-98ba-4edb-bc03-cabd0d36ec38</td>\n",
       "      <td>0</td>\n",
       "      <td>0</td>\n",
       "      <td>0</td>\n",
       "      <td>0</td>\n",
       "      <td>0</td>\n",
       "      <td>227</td>\n",
       "      <td>NaN</td>\n",
       "      <td>NaN</td>\n",
       "      <td>327</td>\n",
       "    </tr>\n",
       "    <tr>\n",
       "      <th>897</th>\n",
       "      <td>5be2eabe-e862-475a-9f14-d59107c6b68b</td>\n",
       "      <td>0</td>\n",
       "      <td>1</td>\n",
       "      <td>0</td>\n",
       "      <td>0</td>\n",
       "      <td>0</td>\n",
       "      <td>0</td>\n",
       "      <td>2025-01-27 11:45:04.081</td>\n",
       "      <td>2025-01-27 11:45:04.081</td>\n",
       "      <td>100</td>\n",
       "    </tr>\n",
       "    <tr>\n",
       "      <th>399</th>\n",
       "      <td>256ec721-e61d-433d-b484-26349ba2e080</td>\n",
       "      <td>0</td>\n",
       "      <td>0</td>\n",
       "      <td>0</td>\n",
       "      <td>0</td>\n",
       "      <td>0</td>\n",
       "      <td>523</td>\n",
       "      <td>NaN</td>\n",
       "      <td>NaN</td>\n",
       "      <td>623</td>\n",
       "    </tr>\n",
       "    <tr>\n",
       "      <th>1176</th>\n",
       "      <td>7bdca3eb-5d84-42a3-acf4-ec1586566d21</td>\n",
       "      <td>0</td>\n",
       "      <td>1</td>\n",
       "      <td>0</td>\n",
       "      <td>0</td>\n",
       "      <td>0</td>\n",
       "      <td>67</td>\n",
       "      <td>2025-01-06 12:13:28.519</td>\n",
       "      <td>2025-02-28 13:44:00.590</td>\n",
       "      <td>167</td>\n",
       "    </tr>\n",
       "  </tbody>\n",
       "</table>\n",
       "</div>"
      ],
      "text/plain": [
       "                                 idCliente  flEmail  flTwitch  flYouTube  \\\n",
       "764   4c44389e-78db-4fbf-b21d-9d8a714388d2        0         1          0   \n",
       "2181  e28574cd-98ba-4edb-bc03-cabd0d36ec38        0         0          0   \n",
       "897   5be2eabe-e862-475a-9f14-d59107c6b68b        0         1          0   \n",
       "399   256ec721-e61d-433d-b484-26349ba2e080        0         0          0   \n",
       "1176  7bdca3eb-5d84-42a3-acf4-ec1586566d21        0         1          0   \n",
       "\n",
       "      flBlueSky  flInstagram  qtdePontos                dtCriacao  \\\n",
       "764           0            0          50  2024-11-27 12:58:50.603   \n",
       "2181          0            0         227                      NaN   \n",
       "897           0            0           0  2025-01-27 11:45:04.081   \n",
       "399           0            0         523                      NaN   \n",
       "1176          0            0          67  2025-01-06 12:13:28.519   \n",
       "\n",
       "                dtAtualizacao  pontosalterados  \n",
       "764   2024-11-27 12:59:02.454              150  \n",
       "2181                      NaN              327  \n",
       "897   2025-01-27 11:45:04.081              100  \n",
       "399                       NaN              623  \n",
       "1176  2025-02-28 13:44:00.590              167  "
      ]
     },
     "execution_count": 11,
     "metadata": {},
     "output_type": "execute_result"
    }
   ],
   "source": [
    "# Add 100 to the 'qtdePontos' column and create a new column 'pontosalterados'\n",
    "# This will not modify the original 'qtdePontos' column\n",
    "df[\"pontosalterados\"] = df[\"qtdePontos\"] + 100\n",
    "df.sample(5)"
   ]
  },
  {
   "cell_type": "code",
   "execution_count": 12,
   "id": "6552cedf",
   "metadata": {},
   "outputs": [
    {
     "data": {
      "text/plain": [
       "count    2436.000000\n",
       "mean        4.640494\n",
       "std         1.998896\n",
       "min         0.000000\n",
       "25%         3.931826\n",
       "50%         4.653960\n",
       "75%         5.922248\n",
       "max        10.335270\n",
       "Name: logPontos, dtype: float64"
      ]
     },
     "execution_count": 12,
     "metadata": {},
     "output_type": "execute_result"
    }
   ],
   "source": [
    "df[\"logPontos\"] = np.log(df[\"qtdePontos\"] + 1)\n",
    "df[\"logPontos\"].describe()"
   ]
  },
  {
   "cell_type": "code",
   "execution_count": 13,
   "id": "baff6074",
   "metadata": {},
   "outputs": [],
   "source": [
    "import matplotlib.pyplot as plt"
   ]
  },
  {
   "cell_type": "code",
   "execution_count": 14,
   "id": "99315402",
   "metadata": {},
   "outputs": [
    {
     "data": {
      "image/png": "[encoded data removed]",
      "text/plain": [
       "<Figure size 640x480 with 1 Axes>"
      ]
     },
     "metadata": {},
     "output_type": "display_data"
    }
   ],
   "source": [
    "plt.hist(df[\"logPontos\"], bins=30, edgecolor=\"black\")\n",
    "plt.title(\"Distribuição de logPontos\")\n",
    "plt.show()"
   ]
  },
  {
   "cell_type": "code",
   "execution_count": null,
   "id": "844e0bbe",
   "metadata": {},
   "outputs": [],
   "source": []
  },
  {
   "cell_type": "code",
   "execution_count": null,
   "id": "326124c6",
   "metadata": {},
   "outputs": [],
   "source": []
  },
  {
   "cell_type": "code",
   "execution_count": null,
   "id": "9b2e6301",
   "metadata": {},
   "outputs": [],
   "source": []
  },
  {
   "cell_type": "code",
   "execution_count": null,
   "id": "ae2dd225",
   "metadata": {},
   "outputs": [],
   "source": []
  },
  {
   "cell_type": "code",
   "execution_count": null,
   "id": "6d945f7a",
   "metadata": {},
   "outputs": [],
   "source": []
  }
 ],
 "metadata": {
  "kernelspec": {
   "display_name": ".venv",
   "language": "python",
   "name": "python3"
  },
  "language_info": {
   "codemirror_mode": {
    "name": "ipython",
    "version": 3
   },
   "file_extension": ".py",
   "mimetype": "text/x-python",
   "name": "python",
   "nbconvert_exporter": "python",
   "pygments_lexer": "ipython3",
   "version": "3.11.11"
  }
 },
 "nbformat": 4,
 "nbformat_minor": 5
}
